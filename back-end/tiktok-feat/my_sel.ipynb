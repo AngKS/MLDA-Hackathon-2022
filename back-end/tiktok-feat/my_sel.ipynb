{
 "cells": [
  {
   "cell_type": "code",
   "execution_count": 10,
   "metadata": {},
   "outputs": [
    {
     "name": "stderr",
     "output_type": "stream",
     "text": [
      "C:\\Users\\liaw choon wei\\AppData\\Local\\Temp\\ipykernel_8184\\1254225837.py:16: DeprecationWarning: executable_path has been deprecated, please pass in a Service object\n",
      "  driver = webdriver.Chrome(path, options=options)\n"
     ]
    }
   ],
   "source": [
    "# Import libraries\n",
    "from selenium.webdriver.chrome.options import Options\n",
    "from selenium.webdriver.common.keys import Keys\n",
    "from selenium.webdriver.common.by import By\n",
    "from selenium.common.exceptions import NoSuchElementException\n",
    "from selenium import webdriver\n",
    "import time\n",
    "import os\n",
    "\n",
    "# Path to chromedriver\n",
    "path = \"C:/Users/liaw choon wei/Desktop/Deep Learning Week 2022 Hackathon/chromedriver.exe\"\n",
    "# User agent\n",
    "user_agent = 'Mozilla/5.0 (X11; Linux x86_64) AppleWebKit/537.36 (KHTML, like Gecko) Chrome/60.0.3112.50 Safari/537.36'    \n",
    "options = Options()\n",
    "options.add_argument('user-agent={0}'.format(user_agent))\n",
    "driver = webdriver.Chrome(path, options=options)\n",
    "\n",
    "driver.get(\"https://www.tiktok.com/\")\n",
    "\n",
    "# Video categories and empty lists to store the links\n",
    "categories = ['cute animals', 'motivational', 'comedy', 'travel', 'nature']\n",
    "data_list = [[],[],[],[],[]]\n",
    "\n",
    "# Loop through each of the category (search one by one)\n",
    "for i in range(5):\n",
    "    # Find search box and enter keyword\n",
    "    search = driver.find_element(By.NAME, 'q')\n",
    "    # Here is to empty the search box (ctrl + a + delete)\n",
    "    search.send_keys(Keys.CONTROL, 'a')\n",
    "    search.send_keys(Keys.BACKSPACE)\n",
    "    # Input the category\n",
    "    search.send_keys(categories[i])\n",
    "    # Enter\n",
    "    search.send_keys(Keys.RETURN)\n",
    "    time.sleep(2)\n",
    "    # To check if the captcha pop up\n",
    "    # Rationale behind this: when captcha pop up, keep refreshing for 2-5 times and it wouldn't show up again\n",
    "    while True:\n",
    "        try:\n",
    "            time.sleep(5)\n",
    "            # Check if the class name exists or not because the captcha only pop up when this class name appears\n",
    "            driver.find_element(By.CLASS_NAME, 'captcha-disable-scroll')\n",
    "            # If yes, refresh the page\n",
    "            driver.refresh()\n",
    "        except NoSuchElementException:\n",
    "            # If no such class name, then break the loop\n",
    "            break\n",
    "    time.sleep(2)\n",
    "    # Click Load More button for 5 times\n",
    "    for j in range(5):\n",
    "        load_more = driver.find_element(By.XPATH, '//*[@id=\"app\"]/div[2]/div[2]/div[2]/div[2]/button')\n",
    "        # load_more.click()\n",
    "        # Here I commented .click() because due to unknown reason, it won't work after the first loop, but using the script below (execute_script function), we use javascript to click on it instead of via the webdriver element click\n",
    "        # Might due to some validation check when we use webdriver element click, but javascript doesn't care\n",
    "        driver.execute_script(\"arguments[0].click();\", load_more)\n",
    "        time.sleep(5)\n",
    "    # Click on the first video\n",
    "    first_vid = driver.find_element(By.XPATH, '//*[@id=\"app\"]/div[2]/div[2]/div[2]/div[1]/div/div[2]/div[1]/div/div/a')\n",
    "    first_vid.click()\n",
    "    time.sleep(1)\n",
    "    # Loop through all the videos\n",
    "    while True:\n",
    "        time.sleep(1)\n",
    "        # Append the video links\n",
    "        data_list[i].append(driver.find_element(By.XPATH, '//*[@id=\"app\"]/div[2]/div[2]/div[2]/div[3]/div[2]/div[2]/div[2]/div[2]/p').text)\n",
    "        # Check if the next button is enabled or not (because it will be disabled when it reaches the last video)\n",
    "        next_btn = driver.find_element(By.XPATH, '//*[@id=\"app\"]/div[2]/div[2]/div[2]/div[3]/div[1]/button[3]')\n",
    "        if next_btn.is_enabled():\n",
    "            # If enabled, then click to the next video\n",
    "            next_btn.click()\n",
    "        else:\n",
    "            # If disabled, then stop\n",
    "            break\n",
    "\n",
    "    # Close the video (here will be the last video since the loop has finished)\n",
    "    close_btn = driver.find_element(By.XPATH, '//*[@id=\"app\"]/div[2]/div[2]/div[2]/div[3]/div[1]/button[1]')\n",
    "    close_btn.click()"
   ]
  },
  {
   "cell_type": "code",
   "execution_count": 19,
   "metadata": {},
   "outputs": [],
   "source": [
    "import json\n",
    "\n",
    "res = dict(zip(categories, data_list))\n",
    "    \n",
    "with open(\"tiktok.json\", \"w\") as outfile:\n",
    "    json.dump(res, outfile)"
   ]
  }
 ],
 "metadata": {
  "kernelspec": {
   "display_name": "Python 3.8.3 ('base')",
   "language": "python",
   "name": "python3"
  },
  "language_info": {
   "codemirror_mode": {
    "name": "ipython",
    "version": 3
   },
   "file_extension": ".py",
   "mimetype": "text/x-python",
   "name": "python",
   "nbconvert_exporter": "python",
   "pygments_lexer": "ipython3",
   "version": "3.8.3"
  },
  "orig_nbformat": 4,
  "vscode": {
   "interpreter": {
    "hash": "ff4f85d6e04298634172ac5d8264e7e9b556b95639fe52ebb9425c4d4cba0c9c"
   }
  }
 },
 "nbformat": 4,
 "nbformat_minor": 2
}
