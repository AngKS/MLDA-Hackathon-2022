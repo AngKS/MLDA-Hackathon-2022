{
 "cells": [
  {
   "cell_type": "code",
   "execution_count": 5,
   "metadata": {},
   "outputs": [
    {
     "data": {
      "text/plain": [
       "'Negative'"
      ]
     },
     "execution_count": 5,
     "metadata": {},
     "output_type": "execute_result"
    }
   ],
   "source": [
    "function emotionCategory (dict_input) {\n",
    "\n",
    "    let sigmoid_output = dict_input['outputs'][0][0]\n",
    "\n",
    "    let emotion = ''\n",
    "    if (sigmoid_output < 0.25) {\n",
    "        emotion = 'Negative'\n",
    "    } else if (sigmoid_output >= 0.25 && sigmoid_output < 0.75){\n",
    "        emotion = 'Neutral'\n",
    "    } else {\n",
    "        emotion = 'Positive'\n",
    "    }\n",
    "    \n",
    "    return emotion\n",
    "}\n",
    "\n",
    "dict_input = {'outputs': [[0.00316798687]]}\n",
    "emotionCategory(dict_input)\n",
    "\n",
    "\n",
    "//input data here\n",
    "data = {\n",
    "    'inputs': ['I do not like this a lot']\n",
    "}\n",
    "\n",
    "fetch(\n",
    "    'https://mlda-sentiment-2022.herokuapp.com/v1/models/sentiment:predict',{\n",
    "        'method':'POST',\n",
    "        headers: {\n",
    "            'Content-Type': 'application/json',\n",
    "          },\n",
    "          body: JSON.stringify(data),\n",
    "    }\n",
    ")\n",
    ".then((response)=>response.json())\n",
    ".then((data)=> {\n",
    "    console.log(data)\n",
    "    emotion = emotionCategory(data)\n",
    "    console.log(emotion)\n",
    "\n",
    "    // state update code here!!!!!!!!!!!!!!!!!\n",
    "})\n",
    "\n"
   ]
  },
  {
   "cell_type": "code",
   "execution_count": null,
   "metadata": {},
   "outputs": [],
   "source": []
  }
 ],
 "metadata": {
  "kernelspec": {
   "display_name": "JavaScript (Node.js)",
   "language": "javascript",
   "name": "javascript"
  },
  "language_info": {
   "file_extension": ".js",
   "mimetype": "application/javascript",
   "name": "javascript",
   "version": "16.15.0"
  },
  "orig_nbformat": 4
 },
 "nbformat": 4,
 "nbformat_minor": 2
}
