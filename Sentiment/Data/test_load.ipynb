{
 "cells": [
  {
   "cell_type": "code",
   "execution_count": 1,
   "metadata": {
    "collapsed": true
   },
   "outputs": [],
   "source": [
    "import json\n",
    "import pandas as pd\n",
    "import tensorflow as tf\n",
    "import numpy as np\n",
    "import plotly.express as px\n",
    "import os\n",
    "import shutil"
   ]
  },
  {
   "cell_type": "code",
   "execution_count": 7,
   "outputs": [],
   "source": [
    "f = open('review/Automotive.json','r',encoding='utf-8')\n",
    "json_list = []\n",
    "for line in f.readlines():\n",
    "    dic = json.loads(line)\n",
    "    json_list.append(dic)\n",
    "\n"
   ],
   "metadata": {
    "collapsed": false,
    "pycharm": {
     "name": "#%%\n"
    }
   }
  },
  {
   "cell_type": "code",
   "execution_count": 8,
   "outputs": [
    {
     "data": {
      "text/plain": "(7990166,\n [{'image': ['https://images-na.ssl-images-amazon.com/images/I/718rWurFNBL._SY88.jpg'],\n   'overall': 4.0,\n   'vote': '3',\n   'verified': True,\n   'reviewTime': '08 12, 2015',\n   'reviewerID': 'A3ELV1VUCZZGL4',\n   'asin': '0209688726',\n   'style': {'Color:': ' CA'},\n   'reviewerName': 'AnaG',\n   'reviewText': \"it's fine. I just would like the stickers to be a little more secure as I'm not sure I trust the gluing power of it. But for the moment it holds my keys.\",\n   'summary': 'Serve its purpose',\n   'unixReviewTime': 1439337600},\n  {'overall': 2.0,\n   'verified': True,\n   'reviewTime': '08 12, 2015',\n   'reviewerID': 'A2FD3FZ2WV6KHQ',\n   'asin': '0209688726',\n   'style': {'Color:': ' T'},\n   'reviewerName': 'Obi John Kenobi',\n   'reviewText': \"took me three returns to get one that didn't wobble, and it's still not super stable but whatever, im tired of returning so ill just deal with it. Too bad because the product actually looks and functions well\",\n   'summary': \"and it's still not super stable but whatever\",\n   'unixReviewTime': 1439337600},\n  {'image': ['https://images-na.ssl-images-amazon.com/images/I/71ORnSJiL1L._SY88.jpg'],\n   'overall': 2.0,\n   'vote': '12',\n   'verified': True,\n   'reviewTime': '08 11, 2015',\n   'reviewerID': 'A39NRKABAVSVSE',\n   'asin': '0209688726',\n   'style': {'Color:': ' AC'},\n   'reviewerName': 'MuddyRiverGirl',\n   'reviewText': 'While the product is fine the description and picture are wrong. Describing headline states Bamboo and shows a light colored wood. I bought this to match other pieces I have. What I got is much darker. Box was checked \"black\" vs. \"white\" and box states material is plywood (Basswood/Waunut). No packing slip. I will probably give this away to a friend and try to find what I\\'m looking for elsewhere. I purchased this on 08/08/2015 for $11.99 and I confirmed that I checked the box for \"pattern 1\" which is the light color. Five days later it\\'s now $8.99.',\n   'summary': 'Beware! Description is wrong.',\n   'unixReviewTime': 1439251200},\n  {'overall': 5.0,\n   'verified': True,\n   'reviewTime': '07 29, 2015',\n   'reviewerID': 'AQSBL5KODHSGW',\n   'asin': '0209688726',\n   'style': {'Color:': ' T'},\n   'reviewerName': 'Nate S',\n   'reviewText': \"It's beautiful and blends right in with my wooden desk. If you like simple and elegant, this is for you. It stays in place on my desk nicely with the included pads installed. It's a phone stand, not really for charging your phone.\",\n   'summary': 'Awesome desk stand, simple and elegant',\n   'unixReviewTime': 1438128000},\n  {'overall': 5.0,\n   'verified': False,\n   'reviewTime': '07 11, 2015',\n   'reviewerID': 'AU45OQPK2J5JF',\n   'asin': '0209688726',\n   'style': {'Color:': ' T'},\n   'reviewerName': 'Kort',\n   'reviewText': \"I love this stand! I had been looking around for a phone case that would fit my phone and had a kickstand, but this was even better. Not only can you use your phone on this, but you can use tablets and most other devices as well. While the phones sit perfectly in the rack, the tablets would hang over a tad and may seem overpowering, but with the 4 grippers that came with it, it will hold it up perfectly. The grippers work really well in holding this stand steady so that your devices won't fall over because they are too heavy for this stand. I love this stand because it is hands free meaning I could pop a recipe up on my phone or tablet and be able to do everything it says without having to touch the device. I was given the opportunity to receive this stand for free in exchange for my honest and unbiased review. All opinions are 100% my own.\",\n   'summary': 'I love this stand',\n   'unixReviewTime': 1436572800}])"
     },
     "execution_count": 8,
     "metadata": {},
     "output_type": "execute_result"
    }
   ],
   "source": [
    "len(json_list),json_list[:5]"
   ],
   "metadata": {
    "collapsed": false,
    "pycharm": {
     "name": "#%%\n"
    }
   }
  },
  {
   "cell_type": "code",
   "execution_count": 9,
   "outputs": [
    {
     "data": {
      "text/plain": "                                                     image  overall vote  \\\n0        [https://images-na.ssl-images-amazon.com/image...      4.0    3   \n1                                                      NaN      2.0  NaN   \n2        [https://images-na.ssl-images-amazon.com/image...      2.0   12   \n3                                                      NaN      5.0  NaN   \n4                                                      NaN      5.0  NaN   \n...                                                    ...      ...  ...   \n7990161                                                NaN      5.0  NaN   \n7990162                                                NaN      1.0  NaN   \n7990163                                                NaN      3.0  NaN   \n7990164                                                NaN      5.0  NaN   \n7990165                                                NaN      1.0  NaN   \n\n         verified   reviewTime      reviewerID        asin  \\\n0            True  08 12, 2015  A3ELV1VUCZZGL4  0209688726   \n1            True  08 12, 2015  A2FD3FZ2WV6KHQ  0209688726   \n2            True  08 11, 2015  A39NRKABAVSVSE  0209688726   \n3            True  07 29, 2015   AQSBL5KODHSGW  0209688726   \n4           False  07 11, 2015   AU45OQPK2J5JF  0209688726   \n...           ...          ...             ...         ...   \n7990161      True  07 26, 2018  A1M8ITTFK4PRD6  B01HJI17Y8   \n7990162      True   07 6, 2018   ACDJQSK6FZIXX  B01HJI17Y8   \n7990163      True   07 1, 2018   AMEQAMPAF1T59  B01HJI17Y8   \n7990164      True  06 26, 2018   AF67UV2T2TFWB  B01HJI17Y8   \n7990165      True  06 11, 2018  A30L2A52OHJH2B  B01HJI17Y8   \n\n                        style         reviewerName  \\\n0           {'Color:': ' CA'}                 AnaG   \n1            {'Color:': ' T'}      Obi John Kenobi   \n2           {'Color:': ' AC'}       MuddyRiverGirl   \n3            {'Color:': ' T'}               Nate S   \n4            {'Color:': ' T'}                 Kort   \n...                       ...                  ...   \n7990161  {'Size:': ' H8-NEW'}        jose pichardo   \n7990162  {'Size:': ' H8-NEW'}  richard k. respicio   \n7990163  {'Size:': ' H8-NEW'}          jose torres   \n7990164  {'Size:': ' H8-NEW'}              DDraper   \n7990165  {'Size:': ' H8-NEW'}      Amazon Customer   \n\n                                                reviewText  \\\n0        it's fine. I just would like the stickers to b...   \n1        took me three returns to get one that didn't w...   \n2        While the product is fine the description and ...   \n3        It's beautiful and blends right in with my woo...   \n4        I love this stand! I had been looking around f...   \n...                                                    ...   \n7990161  I installed them on my 135i and it was a pain ...   \n7990162  Both bulbs blew after one month of use. Dont w...   \n7990163  I guess they are okay for the price, bur if yo...   \n7990164  Great product fast shipping and awesome commun...   \n7990165  One bulb failed 31 days after receiving it. Me...   \n\n                                              summary  unixReviewTime  \n0                                   Serve its purpose      1439337600  \n1        and it's still not super stable but whatever      1439337600  \n2                       Beware! Description is wrong.      1439251200  \n3              Awesome desk stand, simple and elegant      1438128000  \n4                                   I love this stand      1436572800  \n...                                               ...             ...  \n7990161              Works great but pain to install.      1532563200  \n7990162                                         TRASH      1530835200  \n7990163                                They are okay!      1530403200  \n7990164                                    Five Stars      1529971200  \n7990165                                      One Star      1528675200  \n\n[7990166 rows x 12 columns]",
      "text/html": "<div>\n<style scoped>\n    .dataframe tbody tr th:only-of-type {\n        vertical-align: middle;\n    }\n\n    .dataframe tbody tr th {\n        vertical-align: top;\n    }\n\n    .dataframe thead th {\n        text-align: right;\n    }\n</style>\n<table border=\"1\" class=\"dataframe\">\n  <thead>\n    <tr style=\"text-align: right;\">\n      <th></th>\n      <th>image</th>\n      <th>overall</th>\n      <th>vote</th>\n      <th>verified</th>\n      <th>reviewTime</th>\n      <th>reviewerID</th>\n      <th>asin</th>\n      <th>style</th>\n      <th>reviewerName</th>\n      <th>reviewText</th>\n      <th>summary</th>\n      <th>unixReviewTime</th>\n    </tr>\n  </thead>\n  <tbody>\n    <tr>\n      <th>0</th>\n      <td>[https://images-na.ssl-images-amazon.com/image...</td>\n      <td>4.0</td>\n      <td>3</td>\n      <td>True</td>\n      <td>08 12, 2015</td>\n      <td>A3ELV1VUCZZGL4</td>\n      <td>0209688726</td>\n      <td>{'Color:': ' CA'}</td>\n      <td>AnaG</td>\n      <td>it's fine. I just would like the stickers to b...</td>\n      <td>Serve its purpose</td>\n      <td>1439337600</td>\n    </tr>\n    <tr>\n      <th>1</th>\n      <td>NaN</td>\n      <td>2.0</td>\n      <td>NaN</td>\n      <td>True</td>\n      <td>08 12, 2015</td>\n      <td>A2FD3FZ2WV6KHQ</td>\n      <td>0209688726</td>\n      <td>{'Color:': ' T'}</td>\n      <td>Obi John Kenobi</td>\n      <td>took me three returns to get one that didn't w...</td>\n      <td>and it's still not super stable but whatever</td>\n      <td>1439337600</td>\n    </tr>\n    <tr>\n      <th>2</th>\n      <td>[https://images-na.ssl-images-amazon.com/image...</td>\n      <td>2.0</td>\n      <td>12</td>\n      <td>True</td>\n      <td>08 11, 2015</td>\n      <td>A39NRKABAVSVSE</td>\n      <td>0209688726</td>\n      <td>{'Color:': ' AC'}</td>\n      <td>MuddyRiverGirl</td>\n      <td>While the product is fine the description and ...</td>\n      <td>Beware! Description is wrong.</td>\n      <td>1439251200</td>\n    </tr>\n    <tr>\n      <th>3</th>\n      <td>NaN</td>\n      <td>5.0</td>\n      <td>NaN</td>\n      <td>True</td>\n      <td>07 29, 2015</td>\n      <td>AQSBL5KODHSGW</td>\n      <td>0209688726</td>\n      <td>{'Color:': ' T'}</td>\n      <td>Nate S</td>\n      <td>It's beautiful and blends right in with my woo...</td>\n      <td>Awesome desk stand, simple and elegant</td>\n      <td>1438128000</td>\n    </tr>\n    <tr>\n      <th>4</th>\n      <td>NaN</td>\n      <td>5.0</td>\n      <td>NaN</td>\n      <td>False</td>\n      <td>07 11, 2015</td>\n      <td>AU45OQPK2J5JF</td>\n      <td>0209688726</td>\n      <td>{'Color:': ' T'}</td>\n      <td>Kort</td>\n      <td>I love this stand! I had been looking around f...</td>\n      <td>I love this stand</td>\n      <td>1436572800</td>\n    </tr>\n    <tr>\n      <th>...</th>\n      <td>...</td>\n      <td>...</td>\n      <td>...</td>\n      <td>...</td>\n      <td>...</td>\n      <td>...</td>\n      <td>...</td>\n      <td>...</td>\n      <td>...</td>\n      <td>...</td>\n      <td>...</td>\n      <td>...</td>\n    </tr>\n    <tr>\n      <th>7990161</th>\n      <td>NaN</td>\n      <td>5.0</td>\n      <td>NaN</td>\n      <td>True</td>\n      <td>07 26, 2018</td>\n      <td>A1M8ITTFK4PRD6</td>\n      <td>B01HJI17Y8</td>\n      <td>{'Size:': ' H8-NEW'}</td>\n      <td>jose pichardo</td>\n      <td>I installed them on my 135i and it was a pain ...</td>\n      <td>Works great but pain to install.</td>\n      <td>1532563200</td>\n    </tr>\n    <tr>\n      <th>7990162</th>\n      <td>NaN</td>\n      <td>1.0</td>\n      <td>NaN</td>\n      <td>True</td>\n      <td>07 6, 2018</td>\n      <td>ACDJQSK6FZIXX</td>\n      <td>B01HJI17Y8</td>\n      <td>{'Size:': ' H8-NEW'}</td>\n      <td>richard k. respicio</td>\n      <td>Both bulbs blew after one month of use. Dont w...</td>\n      <td>TRASH</td>\n      <td>1530835200</td>\n    </tr>\n    <tr>\n      <th>7990163</th>\n      <td>NaN</td>\n      <td>3.0</td>\n      <td>NaN</td>\n      <td>True</td>\n      <td>07 1, 2018</td>\n      <td>AMEQAMPAF1T59</td>\n      <td>B01HJI17Y8</td>\n      <td>{'Size:': ' H8-NEW'}</td>\n      <td>jose torres</td>\n      <td>I guess they are okay for the price, bur if yo...</td>\n      <td>They are okay!</td>\n      <td>1530403200</td>\n    </tr>\n    <tr>\n      <th>7990164</th>\n      <td>NaN</td>\n      <td>5.0</td>\n      <td>NaN</td>\n      <td>True</td>\n      <td>06 26, 2018</td>\n      <td>AF67UV2T2TFWB</td>\n      <td>B01HJI17Y8</td>\n      <td>{'Size:': ' H8-NEW'}</td>\n      <td>DDraper</td>\n      <td>Great product fast shipping and awesome commun...</td>\n      <td>Five Stars</td>\n      <td>1529971200</td>\n    </tr>\n    <tr>\n      <th>7990165</th>\n      <td>NaN</td>\n      <td>1.0</td>\n      <td>NaN</td>\n      <td>True</td>\n      <td>06 11, 2018</td>\n      <td>A30L2A52OHJH2B</td>\n      <td>B01HJI17Y8</td>\n      <td>{'Size:': ' H8-NEW'}</td>\n      <td>Amazon Customer</td>\n      <td>One bulb failed 31 days after receiving it. Me...</td>\n      <td>One Star</td>\n      <td>1528675200</td>\n    </tr>\n  </tbody>\n</table>\n<p>7990166 rows × 12 columns</p>\n</div>"
     },
     "execution_count": 9,
     "metadata": {},
     "output_type": "execute_result"
    }
   ],
   "source": [
    "df_fashion = pd.DataFrame.from_records(json_list)\n",
    "df_fashion"
   ],
   "metadata": {
    "collapsed": false,
    "pycharm": {
     "name": "#%%\n"
    }
   }
  },
  {
   "cell_type": "code",
   "execution_count": 10,
   "outputs": [],
   "source": [
    "df_fashion.to_csv('review/Automotive.csv', index=False)"
   ],
   "metadata": {
    "collapsed": false,
    "pycharm": {
     "name": "#%%\n"
    }
   }
  },
  {
   "cell_type": "code",
   "execution_count": 2,
   "outputs": [
    {
     "name": "stderr",
     "output_type": "stream",
     "text": [
      "C:\\Users\\STX\\AppData\\Local\\Temp\\ipykernel_24304\\1323262600.py:1: DtypeWarning: Columns (2) have mixed types. Specify dtype option on import or set low_memory=False.\n",
      "  temp_df = pd.read_csv('review/Automotive.csv')\n"
     ]
    }
   ],
   "source": [
    "temp_df = pd.read_csv('review/Automotive.csv')"
   ],
   "metadata": {
    "collapsed": false,
    "pycharm": {
     "name": "#%%\n"
    }
   }
  },
  {
   "cell_type": "code",
   "execution_count": 3,
   "outputs": [
    {
     "data": {
      "text/plain": "                                                     image  overall  vote  \\\n0        ['https://images-na.ssl-images-amazon.com/imag...      4.0   3.0   \n1                                                      NaN      2.0   NaN   \n2        ['https://images-na.ssl-images-amazon.com/imag...      2.0  12.0   \n3                                                      NaN      5.0   NaN   \n4                                                      NaN      5.0   NaN   \n...                                                    ...      ...   ...   \n7990161                                                NaN      5.0   NaN   \n7990162                                                NaN      1.0   NaN   \n7990163                                                NaN      3.0   NaN   \n7990164                                                NaN      5.0   NaN   \n7990165                                                NaN      1.0   NaN   \n\n         verified   reviewTime      reviewerID        asin  \\\n0            True  08 12, 2015  A3ELV1VUCZZGL4  0209688726   \n1            True  08 12, 2015  A2FD3FZ2WV6KHQ  0209688726   \n2            True  08 11, 2015  A39NRKABAVSVSE  0209688726   \n3            True  07 29, 2015   AQSBL5KODHSGW  0209688726   \n4           False  07 11, 2015   AU45OQPK2J5JF  0209688726   \n...           ...          ...             ...         ...   \n7990161      True  07 26, 2018  A1M8ITTFK4PRD6  B01HJI17Y8   \n7990162      True   07 6, 2018   ACDJQSK6FZIXX  B01HJI17Y8   \n7990163      True   07 1, 2018   AMEQAMPAF1T59  B01HJI17Y8   \n7990164      True  06 26, 2018   AF67UV2T2TFWB  B01HJI17Y8   \n7990165      True  06 11, 2018  A30L2A52OHJH2B  B01HJI17Y8   \n\n                        style         reviewerName  \\\n0           {'Color:': ' CA'}                 AnaG   \n1            {'Color:': ' T'}      Obi John Kenobi   \n2           {'Color:': ' AC'}       MuddyRiverGirl   \n3            {'Color:': ' T'}               Nate S   \n4            {'Color:': ' T'}                 Kort   \n...                       ...                  ...   \n7990161  {'Size:': ' H8-NEW'}        jose pichardo   \n7990162  {'Size:': ' H8-NEW'}  richard k. respicio   \n7990163  {'Size:': ' H8-NEW'}          jose torres   \n7990164  {'Size:': ' H8-NEW'}              DDraper   \n7990165  {'Size:': ' H8-NEW'}      Amazon Customer   \n\n                                                reviewText  \\\n0        it's fine. I just would like the stickers to b...   \n1        took me three returns to get one that didn't w...   \n2        While the product is fine the description and ...   \n3        It's beautiful and blends right in with my woo...   \n4        I love this stand! I had been looking around f...   \n...                                                    ...   \n7990161  I installed them on my 135i and it was a pain ...   \n7990162  Both bulbs blew after one month of use. Dont w...   \n7990163  I guess they are okay for the price, bur if yo...   \n7990164  Great product fast shipping and awesome commun...   \n7990165  One bulb failed 31 days after receiving it. Me...   \n\n                                              summary  unixReviewTime  \n0                                   Serve its purpose      1439337600  \n1        and it's still not super stable but whatever      1439337600  \n2                       Beware! Description is wrong.      1439251200  \n3              Awesome desk stand, simple and elegant      1438128000  \n4                                   I love this stand      1436572800  \n...                                               ...             ...  \n7990161              Works great but pain to install.      1532563200  \n7990162                                         TRASH      1530835200  \n7990163                                They are okay!      1530403200  \n7990164                                    Five Stars      1529971200  \n7990165                                      One Star      1528675200  \n\n[7990166 rows x 12 columns]",
      "text/html": "<div>\n<style scoped>\n    .dataframe tbody tr th:only-of-type {\n        vertical-align: middle;\n    }\n\n    .dataframe tbody tr th {\n        vertical-align: top;\n    }\n\n    .dataframe thead th {\n        text-align: right;\n    }\n</style>\n<table border=\"1\" class=\"dataframe\">\n  <thead>\n    <tr style=\"text-align: right;\">\n      <th></th>\n      <th>image</th>\n      <th>overall</th>\n      <th>vote</th>\n      <th>verified</th>\n      <th>reviewTime</th>\n      <th>reviewerID</th>\n      <th>asin</th>\n      <th>style</th>\n      <th>reviewerName</th>\n      <th>reviewText</th>\n      <th>summary</th>\n      <th>unixReviewTime</th>\n    </tr>\n  </thead>\n  <tbody>\n    <tr>\n      <th>0</th>\n      <td>['https://images-na.ssl-images-amazon.com/imag...</td>\n      <td>4.0</td>\n      <td>3.0</td>\n      <td>True</td>\n      <td>08 12, 2015</td>\n      <td>A3ELV1VUCZZGL4</td>\n      <td>0209688726</td>\n      <td>{'Color:': ' CA'}</td>\n      <td>AnaG</td>\n      <td>it's fine. I just would like the stickers to b...</td>\n      <td>Serve its purpose</td>\n      <td>1439337600</td>\n    </tr>\n    <tr>\n      <th>1</th>\n      <td>NaN</td>\n      <td>2.0</td>\n      <td>NaN</td>\n      <td>True</td>\n      <td>08 12, 2015</td>\n      <td>A2FD3FZ2WV6KHQ</td>\n      <td>0209688726</td>\n      <td>{'Color:': ' T'}</td>\n      <td>Obi John Kenobi</td>\n      <td>took me three returns to get one that didn't w...</td>\n      <td>and it's still not super stable but whatever</td>\n      <td>1439337600</td>\n    </tr>\n    <tr>\n      <th>2</th>\n      <td>['https://images-na.ssl-images-amazon.com/imag...</td>\n      <td>2.0</td>\n      <td>12.0</td>\n      <td>True</td>\n      <td>08 11, 2015</td>\n      <td>A39NRKABAVSVSE</td>\n      <td>0209688726</td>\n      <td>{'Color:': ' AC'}</td>\n      <td>MuddyRiverGirl</td>\n      <td>While the product is fine the description and ...</td>\n      <td>Beware! Description is wrong.</td>\n      <td>1439251200</td>\n    </tr>\n    <tr>\n      <th>3</th>\n      <td>NaN</td>\n      <td>5.0</td>\n      <td>NaN</td>\n      <td>True</td>\n      <td>07 29, 2015</td>\n      <td>AQSBL5KODHSGW</td>\n      <td>0209688726</td>\n      <td>{'Color:': ' T'}</td>\n      <td>Nate S</td>\n      <td>It's beautiful and blends right in with my woo...</td>\n      <td>Awesome desk stand, simple and elegant</td>\n      <td>1438128000</td>\n    </tr>\n    <tr>\n      <th>4</th>\n      <td>NaN</td>\n      <td>5.0</td>\n      <td>NaN</td>\n      <td>False</td>\n      <td>07 11, 2015</td>\n      <td>AU45OQPK2J5JF</td>\n      <td>0209688726</td>\n      <td>{'Color:': ' T'}</td>\n      <td>Kort</td>\n      <td>I love this stand! I had been looking around f...</td>\n      <td>I love this stand</td>\n      <td>1436572800</td>\n    </tr>\n    <tr>\n      <th>...</th>\n      <td>...</td>\n      <td>...</td>\n      <td>...</td>\n      <td>...</td>\n      <td>...</td>\n      <td>...</td>\n      <td>...</td>\n      <td>...</td>\n      <td>...</td>\n      <td>...</td>\n      <td>...</td>\n      <td>...</td>\n    </tr>\n    <tr>\n      <th>7990161</th>\n      <td>NaN</td>\n      <td>5.0</td>\n      <td>NaN</td>\n      <td>True</td>\n      <td>07 26, 2018</td>\n      <td>A1M8ITTFK4PRD6</td>\n      <td>B01HJI17Y8</td>\n      <td>{'Size:': ' H8-NEW'}</td>\n      <td>jose pichardo</td>\n      <td>I installed them on my 135i and it was a pain ...</td>\n      <td>Works great but pain to install.</td>\n      <td>1532563200</td>\n    </tr>\n    <tr>\n      <th>7990162</th>\n      <td>NaN</td>\n      <td>1.0</td>\n      <td>NaN</td>\n      <td>True</td>\n      <td>07 6, 2018</td>\n      <td>ACDJQSK6FZIXX</td>\n      <td>B01HJI17Y8</td>\n      <td>{'Size:': ' H8-NEW'}</td>\n      <td>richard k. respicio</td>\n      <td>Both bulbs blew after one month of use. Dont w...</td>\n      <td>TRASH</td>\n      <td>1530835200</td>\n    </tr>\n    <tr>\n      <th>7990163</th>\n      <td>NaN</td>\n      <td>3.0</td>\n      <td>NaN</td>\n      <td>True</td>\n      <td>07 1, 2018</td>\n      <td>AMEQAMPAF1T59</td>\n      <td>B01HJI17Y8</td>\n      <td>{'Size:': ' H8-NEW'}</td>\n      <td>jose torres</td>\n      <td>I guess they are okay for the price, bur if yo...</td>\n      <td>They are okay!</td>\n      <td>1530403200</td>\n    </tr>\n    <tr>\n      <th>7990164</th>\n      <td>NaN</td>\n      <td>5.0</td>\n      <td>NaN</td>\n      <td>True</td>\n      <td>06 26, 2018</td>\n      <td>AF67UV2T2TFWB</td>\n      <td>B01HJI17Y8</td>\n      <td>{'Size:': ' H8-NEW'}</td>\n      <td>DDraper</td>\n      <td>Great product fast shipping and awesome commun...</td>\n      <td>Five Stars</td>\n      <td>1529971200</td>\n    </tr>\n    <tr>\n      <th>7990165</th>\n      <td>NaN</td>\n      <td>1.0</td>\n      <td>NaN</td>\n      <td>True</td>\n      <td>06 11, 2018</td>\n      <td>A30L2A52OHJH2B</td>\n      <td>B01HJI17Y8</td>\n      <td>{'Size:': ' H8-NEW'}</td>\n      <td>Amazon Customer</td>\n      <td>One bulb failed 31 days after receiving it. Me...</td>\n      <td>One Star</td>\n      <td>1528675200</td>\n    </tr>\n  </tbody>\n</table>\n<p>7990166 rows × 12 columns</p>\n</div>"
     },
     "execution_count": 3,
     "metadata": {},
     "output_type": "execute_result"
    }
   ],
   "source": [
    "temp_df"
   ],
   "metadata": {
    "collapsed": false,
    "pycharm": {
     "name": "#%%\n"
    }
   }
  },
  {
   "cell_type": "code",
   "execution_count": null,
   "outputs": [],
   "source": [],
   "metadata": {
    "collapsed": false,
    "pycharm": {
     "name": "#%%\n"
    }
   }
  }
 ],
 "metadata": {
  "kernelspec": {
   "display_name": "Python 3",
   "language": "python",
   "name": "python3"
  },
  "language_info": {
   "codemirror_mode": {
    "name": "ipython",
    "version": 2
   },
   "file_extension": ".py",
   "mimetype": "text/x-python",
   "name": "python",
   "nbconvert_exporter": "python",
   "pygments_lexer": "ipython2",
   "version": "2.7.6"
  }
 },
 "nbformat": 4,
 "nbformat_minor": 0
}