{
 "cells": [
  {
   "cell_type": "code",
   "execution_count": 1,
   "metadata": {
    "collapsed": true,
    "pycharm": {
     "name": "#%%\n"
    }
   },
   "outputs": [],
   "source": [
    "import pandas as pd\n",
    "import json\n",
    "import os\n",
    "import shutil"
   ]
  },
  {
   "cell_type": "code",
   "execution_count": 2,
   "outputs": [
    {
     "data": {
      "text/plain": "['All_Beauty.json',\n 'AMAZON_FASHION.json',\n 'Appliances.json',\n 'Arts_Crafts_and_Sewing.json',\n 'Automotive.json',\n 'CDs_and_Vinyl.json',\n 'Cell_Phones_and_Accessories.json',\n 'Clothing_Shoes_and_Jewelry.json',\n 'Digital_Music.json',\n 'Electronics.json',\n 'Gift_Cards.json',\n 'Grocery_and_Gourmet_Food.json',\n 'Home_and_Kitchen.json',\n 'Industrial_and_Scientific.json',\n 'Kindle_Store.json',\n 'Luxury_Beauty.json',\n 'Magazine_Subscriptions.json',\n 'Movies_and_TV.json',\n 'Musical_Instruments.json',\n 'Office_Products.json',\n 'Patio_Lawn_and_Garden.json',\n 'Pet_Supplies.json',\n 'Prime_Pantry.json',\n 'Software.json',\n 'Sports_and_Outdoors.json',\n 'Tools_and_Home_Improvement.json',\n 'Toys_and_Games.json',\n 'Video_Games.json']"
     },
     "execution_count": 2,
     "metadata": {},
     "output_type": "execute_result"
    }
   ],
   "source": [
    "review_item = os.listdir('./review')\n",
    "review_item"
   ],
   "metadata": {
    "collapsed": false,
    "pycharm": {
     "name": "#%%\n"
    }
   }
  },
  {
   "cell_type": "code",
   "execution_count": 13,
   "outputs": [
    {
     "name": "stdout",
     "output_type": "stream",
     "text": [
      "All_Beauty.json\n",
      "AMAZON_FASHION.json\n",
      "Appliances.json\n",
      "Arts_Crafts_and_Sewing.json\n",
      "Automotive.json\n",
      "CDs_and_Vinyl.json\n",
      "Cell_Phones_and_Accessories.json\n",
      "Clothing_Shoes_and_Jewelry.json\n",
      "Digital_Music.json\n",
      "Electronics.json\n",
      "Gift_Cards.json\n",
      "Grocery_and_Gourmet_Food.json\n",
      "Home_and_Kitchen.json\n",
      "Industrial_and_Scientific.json\n",
      "Kindle_Store.json\n",
      "Luxury_Beauty.json\n",
      "Magazine_Subscriptions.json\n",
      "Movies_and_TV.json\n",
      "Musical_Instruments.json\n",
      "Office_Products.json\n",
      "Patio_Lawn_and_Garden.json\n",
      "Pet_Supplies.json\n",
      "Prime_Pantry.json\n",
      "Software.json\n",
      "Sports_and_Outdoors.json\n",
      "Tools_and_Home_Improvement.json\n",
      "Toys_and_Games.json\n",
      "Video_Games.json\n"
     ]
    }
   ],
   "source": [
    "for item in review_item:\n",
    "    print(item)\n",
    "    f = open(f'review/{item}','r',encoding='utf-8')\n",
    "    json_list = []\n",
    "    for line in f.readlines()[:100000]:\n",
    "        dic = json.loads(line)\n",
    "        json_list.append(dic)\n",
    "\n",
    "    df = pd.DataFrame(json_list)\n",
    "    df = df.drop(columns=['image', 'vote', 'style','asin','unixReviewTime','reviewerID'], axis=0)\n",
    "    df.to_json(f'by_category/{item}')\n"
   ],
   "metadata": {
    "collapsed": false,
    "pycharm": {
     "name": "#%%\n"
    }
   }
  },
  {
   "cell_type": "code",
   "execution_count": 4,
   "outputs": [
    {
     "name": "stdout",
     "output_type": "stream",
     "text": [
      "All_Beauty.json\n",
      "AMAZON_FASHION.json\n",
      "Appliances.json\n",
      "Arts_Crafts_and_Sewing.json\n",
      "Automotive.json\n",
      "CDs_and_Vinyl.json\n",
      "Cell_Phones_and_Accessories.json\n",
      "Clothing_Shoes_and_Jewelry.json\n",
      "Digital_Music.json\n",
      "Electronics.json\n",
      "Gift_Cards.json\n",
      "Grocery_and_Gourmet_Food.json\n",
      "Home_and_Kitchen.json\n",
      "Industrial_and_Scientific.json\n",
      "Kindle_Store.json\n",
      "Luxury_Beauty.json\n",
      "Magazine_Subscriptions.json\n",
      "Movies_and_TV.json\n",
      "Musical_Instruments.json\n",
      "Office_Products.json\n",
      "Patio_Lawn_and_Garden.json\n",
      "Pet_Supplies.json\n",
      "Prime_Pantry.json\n",
      "Software.json\n",
      "Sports_and_Outdoors.json\n",
      "Tools_and_Home_Improvement.json\n",
      "Toys_and_Games.json\n",
      "Video_Games.json\n"
     ]
    }
   ],
   "source": [
    "df = pd.DataFrame()\n",
    "for item in review_item:\n",
    "    print(item)\n",
    "    f = open(f'review/{item}','r',encoding='utf-8')\n",
    "    json_list = []\n",
    "    for line in f.readlines()[:300000]:\n",
    "        dic = json.loads(line)\n",
    "        json_list.append(dic)\n",
    "\n",
    "\n",
    "    temp_df = pd.DataFrame(json_list)\n",
    "    temp_df = temp_df.drop(columns=['image', 'vote', 'style','asin','unixReviewTime','reviewerID'], axis=0)\n",
    "    temp_df_1 = temp_df[temp_df['overall'] == 1].iloc[:35000]\n",
    "    temp_df_2 = temp_df[temp_df['overall'] == 2].iloc[:35000]\n",
    "    temp_df_3 = temp_df[temp_df['overall'] == 3].iloc[:35000]\n",
    "    temp_df_4 = temp_df[temp_df['overall'] == 4].iloc[:35000]\n",
    "    temp_df_5 = temp_df[temp_df['overall'] == 5].iloc[:35000]\n",
    "    df = pd.concat([df, temp_df_1, temp_df_2, temp_df_3, temp_df_4, temp_df_5], axis=0)\n",
    "\n",
    "df.reset_index().to_json(f'consolidated/final_3.json')"
   ],
   "metadata": {
    "collapsed": false,
    "pycharm": {
     "name": "#%%\n"
    }
   }
  },
  {
   "cell_type": "code",
   "execution_count": 21,
   "outputs": [
    {
     "data": {
      "text/plain": "       overall  verified   reviewTime       reviewerName  \\\n0          1.0      True  02 19, 2015  theodore j bigham   \n1          4.0      True  12 18, 2014       Mary K. Byke   \n2          4.0      True  08 10, 2014            David G   \n3          5.0      True  03 11, 2013               TamB   \n4          5.0      True  12 25, 2011         shoecanary   \n...        ...       ...          ...                ...   \n99995      5.0      True   03 6, 2015          H. Tilley   \n99996      5.0      True   03 6, 2015     Richard Taylor   \n99997      5.0      True   03 5, 2015               Matt   \n99998      4.0      True   03 4, 2015                 AS   \n99999      3.0      True   03 4, 2015           R. Jones   \n\n                                              reviewText  \\\n0                                                  great   \n1      My  husband wanted to reading about the Negro ...   \n2      This book was very informative, covering all a...   \n3      I am already a baseball fan and knew a bit abo...   \n4      This was a good story of the Black leagues. I ...   \n...                                                  ...   \n99995              Work very well and are nicely priced.   \n99996  These filters fit my Samsung refrigerator perf...   \n99997                                       A Great Deal   \n99998                               good quality filters   \n99999  This is my second pack of 3 that I bought for ...   \n\n                                                 summary  \n0                                               One Star  \n1      ... to reading about the Negro Baseball and th...  \n2                                         Worth the Read  \n3                                              Good Read  \n4                    More than facts, a good story read!  \n...                                                  ...  \n99995                                         Five Stars  \n99996  These filters fit my Samsung refrigerator perf...  \n99997                                       A Great Deal  \n99998                                         Four Stars  \n99999  They work but beware you may need to trim them...  \n\n[300000 rows x 6 columns]",
      "text/html": "<div>\n<style scoped>\n    .dataframe tbody tr th:only-of-type {\n        vertical-align: middle;\n    }\n\n    .dataframe tbody tr th {\n        vertical-align: top;\n    }\n\n    .dataframe thead th {\n        text-align: right;\n    }\n</style>\n<table border=\"1\" class=\"dataframe\">\n  <thead>\n    <tr style=\"text-align: right;\">\n      <th></th>\n      <th>overall</th>\n      <th>verified</th>\n      <th>reviewTime</th>\n      <th>reviewerName</th>\n      <th>reviewText</th>\n      <th>summary</th>\n    </tr>\n  </thead>\n  <tbody>\n    <tr>\n      <th>0</th>\n      <td>1.0</td>\n      <td>True</td>\n      <td>02 19, 2015</td>\n      <td>theodore j bigham</td>\n      <td>great</td>\n      <td>One Star</td>\n    </tr>\n    <tr>\n      <th>1</th>\n      <td>4.0</td>\n      <td>True</td>\n      <td>12 18, 2014</td>\n      <td>Mary K. Byke</td>\n      <td>My  husband wanted to reading about the Negro ...</td>\n      <td>... to reading about the Negro Baseball and th...</td>\n    </tr>\n    <tr>\n      <th>2</th>\n      <td>4.0</td>\n      <td>True</td>\n      <td>08 10, 2014</td>\n      <td>David G</td>\n      <td>This book was very informative, covering all a...</td>\n      <td>Worth the Read</td>\n    </tr>\n    <tr>\n      <th>3</th>\n      <td>5.0</td>\n      <td>True</td>\n      <td>03 11, 2013</td>\n      <td>TamB</td>\n      <td>I am already a baseball fan and knew a bit abo...</td>\n      <td>Good Read</td>\n    </tr>\n    <tr>\n      <th>4</th>\n      <td>5.0</td>\n      <td>True</td>\n      <td>12 25, 2011</td>\n      <td>shoecanary</td>\n      <td>This was a good story of the Black leagues. I ...</td>\n      <td>More than facts, a good story read!</td>\n    </tr>\n    <tr>\n      <th>...</th>\n      <td>...</td>\n      <td>...</td>\n      <td>...</td>\n      <td>...</td>\n      <td>...</td>\n      <td>...</td>\n    </tr>\n    <tr>\n      <th>99995</th>\n      <td>5.0</td>\n      <td>True</td>\n      <td>03 6, 2015</td>\n      <td>H. Tilley</td>\n      <td>Work very well and are nicely priced.</td>\n      <td>Five Stars</td>\n    </tr>\n    <tr>\n      <th>99996</th>\n      <td>5.0</td>\n      <td>True</td>\n      <td>03 6, 2015</td>\n      <td>Richard Taylor</td>\n      <td>These filters fit my Samsung refrigerator perf...</td>\n      <td>These filters fit my Samsung refrigerator perf...</td>\n    </tr>\n    <tr>\n      <th>99997</th>\n      <td>5.0</td>\n      <td>True</td>\n      <td>03 5, 2015</td>\n      <td>Matt</td>\n      <td>A Great Deal</td>\n      <td>A Great Deal</td>\n    </tr>\n    <tr>\n      <th>99998</th>\n      <td>4.0</td>\n      <td>True</td>\n      <td>03 4, 2015</td>\n      <td>AS</td>\n      <td>good quality filters</td>\n      <td>Four Stars</td>\n    </tr>\n    <tr>\n      <th>99999</th>\n      <td>3.0</td>\n      <td>True</td>\n      <td>03 4, 2015</td>\n      <td>R. Jones</td>\n      <td>This is my second pack of 3 that I bought for ...</td>\n      <td>They work but beware you may need to trim them...</td>\n    </tr>\n  </tbody>\n</table>\n<p>300000 rows × 6 columns</p>\n</div>"
     },
     "execution_count": 21,
     "metadata": {},
     "output_type": "execute_result"
    }
   ],
   "source": [
    "df"
   ],
   "metadata": {
    "collapsed": false,
    "pycharm": {
     "name": "#%%\n"
    }
   }
  },
  {
   "cell_type": "code",
   "execution_count": 14,
   "outputs": [
    {
     "data": {
      "text/plain": "       overall  verified   reviewTime       reviewerName  \\\n0            1      True  02 19, 2015  theodore j bigham   \n1            4      True  12 18, 2014       Mary K. Byke   \n2            4      True  08 10, 2014            David G   \n3            5      True  03 11, 2013               TamB   \n4            5      True  12 25, 2011         shoecanary   \n...        ...       ...          ...                ...   \n99995        5      True  03 24, 2016             MPerry   \n99996        5     False  01 10, 2016           S. Bowen   \n99997        5      True  10 29, 2015       David Gurnak   \n99998        5      True  07 24, 2015     Travel Maniac.   \n99999        5      True  04 29, 2015          Sir David   \n\n                                              reviewText  \\\n0                                                  great   \n1      My  husband wanted to reading about the Negro ...   \n2      This book was very informative, covering all a...   \n3      I am already a baseball fan and knew a bit abo...   \n4      This was a good story of the Black leagues. I ...   \n...                                                  ...   \n99995  I bought this for my son as a replacement for ...   \n99996  This is the best electric shaver I have used s...   \n99997                                             Great!   \n99998                                   Superb. Love it!   \n99999  I have used electric Remington razors for over...   \n\n                                                 summary  \n0                                               One Star  \n1      ... to reading about the Negro Baseball and th...  \n2                                         Worth the Read  \n3                                              Good Read  \n4                    More than facts, a good story read!  \n...                                                  ...  \n99995               Son is very happy with his new razor  \n99996                             Top of the line shaver  \n99997                                         Five Stars  \n99998                                           Love it!  \n99999                             Quality Electric Razor  \n\n[100000 rows x 6 columns]",
      "text/html": "<div>\n<style scoped>\n    .dataframe tbody tr th:only-of-type {\n        vertical-align: middle;\n    }\n\n    .dataframe tbody tr th {\n        vertical-align: top;\n    }\n\n    .dataframe thead th {\n        text-align: right;\n    }\n</style>\n<table border=\"1\" class=\"dataframe\">\n  <thead>\n    <tr style=\"text-align: right;\">\n      <th></th>\n      <th>overall</th>\n      <th>verified</th>\n      <th>reviewTime</th>\n      <th>reviewerName</th>\n      <th>reviewText</th>\n      <th>summary</th>\n    </tr>\n  </thead>\n  <tbody>\n    <tr>\n      <th>0</th>\n      <td>1</td>\n      <td>True</td>\n      <td>02 19, 2015</td>\n      <td>theodore j bigham</td>\n      <td>great</td>\n      <td>One Star</td>\n    </tr>\n    <tr>\n      <th>1</th>\n      <td>4</td>\n      <td>True</td>\n      <td>12 18, 2014</td>\n      <td>Mary K. Byke</td>\n      <td>My  husband wanted to reading about the Negro ...</td>\n      <td>... to reading about the Negro Baseball and th...</td>\n    </tr>\n    <tr>\n      <th>2</th>\n      <td>4</td>\n      <td>True</td>\n      <td>08 10, 2014</td>\n      <td>David G</td>\n      <td>This book was very informative, covering all a...</td>\n      <td>Worth the Read</td>\n    </tr>\n    <tr>\n      <th>3</th>\n      <td>5</td>\n      <td>True</td>\n      <td>03 11, 2013</td>\n      <td>TamB</td>\n      <td>I am already a baseball fan and knew a bit abo...</td>\n      <td>Good Read</td>\n    </tr>\n    <tr>\n      <th>4</th>\n      <td>5</td>\n      <td>True</td>\n      <td>12 25, 2011</td>\n      <td>shoecanary</td>\n      <td>This was a good story of the Black leagues. I ...</td>\n      <td>More than facts, a good story read!</td>\n    </tr>\n    <tr>\n      <th>...</th>\n      <td>...</td>\n      <td>...</td>\n      <td>...</td>\n      <td>...</td>\n      <td>...</td>\n      <td>...</td>\n    </tr>\n    <tr>\n      <th>99995</th>\n      <td>5</td>\n      <td>True</td>\n      <td>03 24, 2016</td>\n      <td>MPerry</td>\n      <td>I bought this for my son as a replacement for ...</td>\n      <td>Son is very happy with his new razor</td>\n    </tr>\n    <tr>\n      <th>99996</th>\n      <td>5</td>\n      <td>False</td>\n      <td>01 10, 2016</td>\n      <td>S. Bowen</td>\n      <td>This is the best electric shaver I have used s...</td>\n      <td>Top of the line shaver</td>\n    </tr>\n    <tr>\n      <th>99997</th>\n      <td>5</td>\n      <td>True</td>\n      <td>10 29, 2015</td>\n      <td>David Gurnak</td>\n      <td>Great!</td>\n      <td>Five Stars</td>\n    </tr>\n    <tr>\n      <th>99998</th>\n      <td>5</td>\n      <td>True</td>\n      <td>07 24, 2015</td>\n      <td>Travel Maniac.</td>\n      <td>Superb. Love it!</td>\n      <td>Love it!</td>\n    </tr>\n    <tr>\n      <th>99999</th>\n      <td>5</td>\n      <td>True</td>\n      <td>04 29, 2015</td>\n      <td>Sir David</td>\n      <td>I have used electric Remington razors for over...</td>\n      <td>Quality Electric Razor</td>\n    </tr>\n  </tbody>\n</table>\n<p>100000 rows × 6 columns</p>\n</div>"
     },
     "execution_count": 14,
     "metadata": {},
     "output_type": "execute_result"
    }
   ],
   "source": [
    "df = pd.read_json(f'by_category/{review_item[0]}')\n",
    "df"
   ],
   "metadata": {
    "collapsed": false,
    "pycharm": {
     "name": "#%%\n"
    }
   }
  },
  {
   "cell_type": "code",
   "execution_count": null,
   "outputs": [],
   "source": [],
   "metadata": {
    "collapsed": false,
    "pycharm": {
     "name": "#%%\n"
    }
   }
  }
 ],
 "metadata": {
  "kernelspec": {
   "display_name": "Python 3",
   "language": "python",
   "name": "python3"
  },
  "language_info": {
   "codemirror_mode": {
    "name": "ipython",
    "version": 2
   },
   "file_extension": ".py",
   "mimetype": "text/x-python",
   "name": "python",
   "nbconvert_exporter": "python",
   "pygments_lexer": "ipython2",
   "version": "2.7.6"
  }
 },
 "nbformat": 4,
 "nbformat_minor": 0
}