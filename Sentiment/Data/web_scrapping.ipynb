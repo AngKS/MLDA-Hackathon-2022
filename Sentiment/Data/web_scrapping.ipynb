{
 "cells": [
  {
   "cell_type": "code",
   "execution_count": 1,
   "metadata": {
    "collapsed": true,
    "pycharm": {
     "name": "#%%\n"
    }
   },
   "outputs": [],
   "source": [
    "import gzip\n",
    "import shutil\n",
    "import requests\n",
    "import json\n",
    "from bs4 import BeautifulSoup as bs\n",
    "import pandas as pd\n",
    "import os\n"
   ]
  },
  {
   "cell_type": "code",
   "execution_count": 2,
   "outputs": [],
   "source": [
    "general_url = 'http://jmcauley.ucsd.edu/data/amazon/'\n",
    "data_url = 'http://deepyeti.ucsd.edu/jianmo/amazon/index.html'"
   ],
   "metadata": {
    "collapsed": false,
    "pycharm": {
     "name": "#%%\n"
    }
   }
  },
  {
   "cell_type": "markdown",
   "source": [
    "# Scrape for the web page"
   ],
   "metadata": {
    "collapsed": false,
    "pycharm": {
     "name": "#%% md\n"
    }
   }
  },
  {
   "cell_type": "code",
   "execution_count": 3,
   "outputs": [
    {
     "data": {
      "text/plain": "b'<!DOCTYPE HTML PUBLIC \"-//W3C//DTD HTML 4.01 Transitional//EN\"\\n\"http://www.w3.org/TR/html4/loose.dtd\">\\n<html>\\n  <head>\\n    <title>Amazon review data</title>\\n    <meta name=\"author\" content=\"Jianmo Ni\">\\n    <meta http-equiv=\"Content-Type\" content=\"text/html; charset=UTF-8\">\\n    <script type=\"text/javascript\" language=\"javascript\"  src=\"http://code.jquery.com/jquery-1.4.2.min.js\"></script>\\n    <link rel=\"stylesheet\" type=\"text/css\" href=\"https://cseweb.ucsd.edu/~jmcauley/style.css\">\\n  </head>\\n<body>\\n\\n<div id=\"left_column\">\\n</div>\\n\\n<div id=\"main\">\\n<!-- <div id=\"header\"> -->\\n  <h1>Amazon review data (2018)</h1>\\n\\n  <p><b><a href=\"https://nijianmo.github.io\">Jianmo Ni</a></b>, UCSD</p>\\n\\n<h2>Citation</h2>\\n<p>Please cite the following paper if you use the data in any way:</p>\\n<p>\\n  <b>Justifying recommendations using distantly-labeled reviews and fined-grained aspects</b><br>\\n  Jianmo Ni, Jiacheng Li, Julian McAuley<br>\\n  <em>Empirical Methods in Natural Language Processing (EMNLP)</em>, 2019<br>\\n  <a href=\"http://cseweb.ucsd.edu/~jmcauley/pdfs/emnlp19a.pdf\">pdf</a>\\n</p>\\n\\n<h2>Note</h2>\\n<p>You should have <a href=\"https://forms.gle/A8hBfPxKkKGFCP238\">completed this form</a>. Note that we do not own the data, and as such we are not in a position to offer a license or control its use, however we request that the data be used for research purposes. \\n</p>\\n<p>If you are looking for smaller datasets such as percategory k-core files and ratings only files, please visit our <a href=\"https://nijianmo.github.io/amazon/index.html\">main dataset page</a>.\\n</p>\\n\\n<h2>Files</h2>\\n<h3>Complete review data</h3>\\n\\n<!-- <p>Please see the <b>per-category</b> files below, and only download these (large!) files if you really need them:</p> -->\\n\\n<p>You can download the complete dataset through the link on this website.</p>\\n\\n\\n<p><b><a href=\"http://deepyeti.ucsd.edu/jianmo/amazon/categoryFiles/All_Amazon_Review.json.gz\">raw review data</a></b> (34gb) - all 233.1 million reviews</p>\\n\\n<p><b><a href=\"http://deepyeti.ucsd.edu/jianmo/amazon/categoryFilesSmall/all_csv_files.csv\">ratings only</a></b> (6.7gb) - same as above, in csv form without reviews or metadata</b>\\n<p><b><a href=\"http://deepyeti.ucsd.edu/jianmo/amazon/categoryFiles/All_Amazon_Review_5.json.gz\">5-core</a></b> (14.3gb) - subset of the data in which all users and items have at least 5 reviews (75.26 million reviews)</p>\\n\\n<p><b><a href=\"http://deepyeti.ucsd.edu/jianmo/amazon/metaFiles/All_Amazon_Meta.json.gz\">meta data</a></b> (12gb) - meta data for all products\\n<ul>\\n  <li>We also provide a <a href=\"https://colab.research.google.com/drive/1Zv6MARGQcrBbLHyjPVVMZVnRWsRnVMpV\">colab notebook</a> that helps you parse and clean the data.\\n  </li>\\n</ul>\\n</p>\\n\\n<p><b><a href=\"http://deepyeti.ucsd.edu/jianmo/amazon/metaFiles/duplicates.txt\">duplicated product list</a></b> (126mb) - list of duplicated products</p>\\n\\n<p><b>Per-category data</b> - the review and product metadata for each category.</p>\\n\\n<p>\\n<table class=\"code-table\" style=\"font-size: 0.7em; width:90%\">\\n\\n<tr> \\n      <td>AMAZON FASHION</td> \\n      <td><a href=\"http://deepyeti.ucsd.edu/jianmo/amazon/categoryFiles/AMAZON_FASHION.json.gz\">reviews</a> (883,636 reviews)</td> \\n      <td><a href=\"http://deepyeti.ucsd.edu/jianmo/amazon/metaFiles2/meta_AMAZON_FASHION.json.gz\">metadata</a> (186,637 products)</td> \\n    </tr>\\n\\n<tr> \\n      <td>All Beauty</td> \\n      <td><a href=\"http://deepyeti.ucsd.edu/jianmo/amazon/categoryFiles/All_Beauty.json.gz\">reviews</a> (371,345 reviews)</td> \\n      <td><a href=\"http://deepyeti.ucsd.edu/jianmo/amazon/metaFiles2/meta_All_Beauty.json.gz\">metadata</a> (32,992 products)</td> \\n    </tr>\\n\\n<tr> \\n      <td>Appliances</td> \\n      <td><a href=\"http://deepyeti.ucsd.edu/jianmo/amazon/categoryFiles/Appliances.json.gz\">reviews</a> (602,777 reviews)</td> \\n      <td><a href=\"http://deepyeti.ucsd.edu/jianmo/amazon/metaFiles2/meta_Appliances.json.gz\">metadata</a> (30,459 products)</td> \\n    </tr>\\n\\n<tr> \\n      <td>Arts Crafts and Sewing</td> \\n      <td><a href=\"http://deepyeti.ucsd.edu/jianmo/amazon/categoryFiles/Arts_Crafts_and_Sewing.json.gz\">reviews</a> (2,875,917 reviews)</td> \\n      <td><a href=\"http://deepyeti.ucsd.edu/jianmo/amazon/metaFiles2/meta_Arts_Crafts_and_Sewing.json.gz\">metadata</a> (303,426 products)</td> \\n    </tr>\\n\\n<tr> \\n      <td>Automotive</td> \\n      <td><a href=\"http://deepyeti.ucsd.edu/jianmo/amazon/categoryFiles/Automotive.json.gz\">reviews</a> (7,990,166 reviews)</td> \\n      <td><a href=\"http://deepyeti.ucsd.edu/jianmo/amazon/metaFiles2/meta_Automotive.json.gz\">metadata</a> (932,019 products)</td> \\n    </tr>\\n\\n<tr> \\n      <td>Books</td> \\n      <td><a href=\"http://deepyeti.ucsd.edu/jianmo/amazon/categoryFiles/Books.json.gz\">reviews</a> (51,311,621 reviews)</td> \\n      <td><a href=\"http://deepyeti.ucsd.edu/jianmo/amazon/metaFiles2/meta_Books.json.gz\">metadata</a> (2,935,525 products)</td> \\n    </tr>\\n\\n<tr> \\n      <td>CDs and Vinyl</td> \\n      <td><a href=\"http://deepyeti.ucsd.edu/jianmo/amazon/categoryFiles/CDs_and_Vinyl.json.gz\">reviews</a> (4,543,369 reviews)</td> \\n      <td><a href=\"http://deepyeti.ucsd.edu/jianmo/amazon/metaFiles2/meta_CDs_and_Vinyl.json.gz\">metadata</a> (544,442 products)</td> \\n    </tr>\\n\\n<tr> \\n      <td>Cell Phones and Accessories</td> \\n      <td><a href=\"http://deepyeti.ucsd.edu/jianmo/amazon/categoryFiles/Cell_Phones_and_Accessories.json.gz\">reviews</a> (10,063,255 reviews)</td> \\n      <td><a href=\"http://deepyeti.ucsd.edu/jianmo/amazon/metaFiles2/meta_Cell_Phones_and_Accessories.json.gz\">metadata</a> (590,269 products)</td> \\n    </tr>\\n\\n<tr> \\n      <td>Clothing Shoes and Jewelry</td> \\n      <td><a href=\"http://deepyeti.ucsd.edu/jianmo/amazon/categoryFiles/Clothing_Shoes_and_Jewelry.json.gz\">reviews</a> (32,292,099 reviews)</td> \\n      <td><a href=\"http://deepyeti.ucsd.edu/jianmo/amazon/metaFiles2/meta_Clothing_Shoes_and_Jewelry.json.gz\">metadata</a> (2,685,059 products)</td> \\n    </tr>\\n\\n<tr> \\n      <td>Digital Music</td> \\n      <td><a href=\"http://deepyeti.ucsd.edu/jianmo/amazon/categoryFiles/Digital_Music.json.gz\">reviews</a> (1,584,082 reviews)</td> \\n      <td><a href=\"http://deepyeti.ucsd.edu/jianmo/amazon/metaFiles2/meta_Digital_Music.json.gz\">metadata</a> (465,392 products)</td> \\n    </tr>\\n\\n<tr> \\n      <td>Electronics</td> \\n      <td><a href=\"http://deepyeti.ucsd.edu/jianmo/amazon/categoryFiles/Electronics.json.gz\">reviews</a> (20,994,353 reviews)</td> \\n      <td><a href=\"http://deepyeti.ucsd.edu/jianmo/amazon/metaFiles2/meta_Electronics.json.gz\">metadata</a> (786,868 products)</td> \\n    </tr>\\n\\n<tr> \\n      <td>Gift Cards</td> \\n      <td><a href=\"http://deepyeti.ucsd.edu/jianmo/amazon/categoryFiles/Gift_Cards.json.gz\">reviews</a> (147,194 reviews)</td> \\n      <td><a href=\"http://deepyeti.ucsd.edu/jianmo/amazon/metaFiles2/meta_Gift_Cards.json.gz\">metadata</a> (1,548 products)</td> \\n    </tr>\\n\\n<tr> \\n      <td>Grocery and Gourmet Food</td> \\n      <td><a href=\"http://deepyeti.ucsd.edu/jianmo/amazon/categoryFiles/Grocery_and_Gourmet_Food.json.gz\">reviews</a> (5,074,160 reviews)</td> \\n      <td><a href=\"http://deepyeti.ucsd.edu/jianmo/amazon/metaFiles2/meta_Grocery_and_Gourmet_Food.json.gz\">metadata</a> (287,209 products)</td> \\n    </tr>\\n\\n<tr> \\n      <td>Home and Kitchen</td> \\n      <td><a href=\"http://deepyeti.ucsd.edu/jianmo/amazon/categoryFiles/Home_and_Kitchen.json.gz\">reviews</a> (21,928,568 reviews)</td> \\n      <td><a href=\"http://deepyeti.ucsd.edu/jianmo/amazon/metaFiles2/meta_Home_and_Kitchen.json.gz\">metadata</a> (1,301,225 products)</td> \\n    </tr>\\n\\n<tr> \\n      <td>Industrial and Scientific</td> \\n      <td><a href=\"http://deepyeti.ucsd.edu/jianmo/amazon/categoryFiles/Industrial_and_Scientific.json.gz\">reviews</a> (1,758,333 reviews)</td> \\n      <td><a href=\"http://deepyeti.ucsd.edu/jianmo/amazon/metaFiles2/meta_Industrial_and_Scientific.json.gz\">metadata</a> (167,524 products)</td> \\n    </tr>\\n\\n<tr> \\n      <td>Kindle Store</td> \\n      <td><a href=\"http://deepyeti.ucsd.edu/jianmo/amazon/categoryFiles/Kindle_Store.json.gz\">reviews</a> (5,722,988 reviews)</td> \\n      <td><a href=\"http://deepyeti.ucsd.edu/jianmo/amazon/metaFiles2/meta_Kindle_Store.json.gz\">metadata</a> (493,859 products)</td> \\n    </tr>\\n\\n<tr> \\n      <td>Luxury Beauty</td> \\n      <td><a href=\"http://deepyeti.ucsd.edu/jianmo/amazon/categoryFiles/Luxury_Beauty.json.gz\">reviews</a> (574,628 reviews)</td> \\n      <td><a href=\"http://deepyeti.ucsd.edu/jianmo/amazon/metaFiles2/meta_Luxury_Beauty.json.gz\">metadata</a> (12,308 products)</td> \\n    </tr>\\n\\n<tr> \\n      <td>Magazine Subscriptions</td> \\n      <td><a href=\"http://deepyeti.ucsd.edu/jianmo/amazon/categoryFiles/Magazine_Subscriptions.json.gz\">reviews</a> (89,689 reviews)</td> \\n      <td><a href=\"http://deepyeti.ucsd.edu/jianmo/amazon/metaFiles2/meta_Magazine_Subscriptions.json.gz\">metadata</a> (3,493 products)</td> \\n    </tr>\\n\\n<tr> \\n      <td>Movies and TV</td> \\n      <td><a href=\"http://deepyeti.ucsd.edu/jianmo/amazon/categoryFiles/Movies_and_TV.json.gz\">reviews</a> (8,765,568 reviews)</td> \\n      <td><a href=\"http://deepyeti.ucsd.edu/jianmo/amazon/metaFiles2/meta_Movies_and_TV.json.gz\">metadata</a> (203,970 products)</td> \\n    </tr>\\n\\n<tr> \\n      <td>Musical Instruments</td> \\n      <td><a href=\"http://deepyeti.ucsd.edu/jianmo/amazon/categoryFiles/Musical_Instruments.json.gz\">reviews</a> (1,512,530 reviews)</td> \\n      <td><a href=\"http://deepyeti.ucsd.edu/jianmo/amazon/metaFiles2/meta_Musical_Instruments.json.gz\">metadata</a> (120,400 products)</td> \\n    </tr>\\n\\n<tr> \\n      <td>Office Products</td> \\n      <td><a href=\"http://deepyeti.ucsd.edu/jianmo/amazon/categoryFiles/Office_Products.json.gz\">reviews</a> (5,581,313 reviews)</td> \\n      <td><a href=\"http://deepyeti.ucsd.edu/jianmo/amazon/metaFiles2/meta_Office_Products.json.gz\">metadata</a> (315,644 products)</td> \\n    </tr>\\n\\n<tr> \\n      <td>Patio Lawn and Garden</td> \\n      <td><a href=\"http://deepyeti.ucsd.edu/jianmo/amazon/categoryFiles/Patio_Lawn_and_Garden.json.gz\">reviews</a> (5,236,058 reviews)</td> \\n      <td><a href=\"http://deepyeti.ucsd.edu/jianmo/amazon/metaFiles2/meta_Patio_Lawn_and_Garden.json.gz\">metadata</a> (279,697 products)</td> \\n    </tr>\\n\\n<tr> \\n      <td>Pet Supplies</td> \\n      <td><a href=\"http://deepyeti.ucsd.edu/jianmo/amazon/categoryFiles/Pet_Supplies.json.gz\">reviews</a> (6,542,483 reviews)</td> \\n      <td><a href=\"http://deepyeti.ucsd.edu/jianmo/amazon/metaFiles2/meta_Pet_Supplies.json.gz\">metadata</a> (206,141 products)</td> \\n    </tr>\\n\\n<tr> \\n      <td>Prime Pantry</td> \\n      <td><a href=\"http://deepyeti.ucsd.edu/jianmo/amazon/categoryFiles/Prime_Pantry.json.gz\">reviews</a> (471,614 reviews)</td> \\n      <td><a href=\"http://deepyeti.ucsd.edu/jianmo/amazon/metaFiles2/meta_Prime_Pantry.json.gz\">metadata</a> (10,815 products)</td> \\n    </tr>\\n\\n<tr> \\n      <td>Software</td> \\n      <td><a href=\"http://deepyeti.ucsd.edu/jianmo/amazon/categoryFiles/Software.json.gz\">reviews</a> (459,436 reviews)</td> \\n      <td><a href=\"http://deepyeti.ucsd.edu/jianmo/amazon/metaFiles2/meta_Software.json.gz\">metadata</a> (26,815 products)</td> \\n    </tr>\\n\\n<tr> \\n      <td>Sports and Outdoors</td> \\n      <td><a href=\"http://deepyeti.ucsd.edu/jianmo/amazon/categoryFiles/Sports_and_Outdoors.json.gz\">reviews</a> (12,980,837 reviews)</td> \\n      <td><a href=\"http://deepyeti.ucsd.edu/jianmo/amazon/metaFiles2/meta_Sports_and_Outdoors.json.gz\">metadata</a> (962,876 products)</td> \\n    </tr>\\n\\n<tr> \\n      <td>Tools and Home Improvement</td> \\n      <td><a href=\"http://deepyeti.ucsd.edu/jianmo/amazon/categoryFiles/Tools_and_Home_Improvement.json.gz\">reviews</a> (9,015,203 reviews)</td> \\n      <td><a href=\"http://deepyeti.ucsd.edu/jianmo/amazon/metaFiles2/meta_Tools_and_Home_Improvement.json.gz\">metadata</a> (571,982 products)</td> \\n    </tr>\\n\\n<tr> \\n      <td>Toys and Games</td> \\n      <td><a href=\"http://deepyeti.ucsd.edu/jianmo/amazon/categoryFiles/Toys_and_Games.json.gz\">reviews</a> (8,201,231 reviews)</td> \\n      <td><a href=\"http://deepyeti.ucsd.edu/jianmo/amazon/metaFiles2/meta_Toys_and_Games.json.gz\">metadata</a> (634,414 products)</td> \\n    </tr>\\n\\n<tr> \\n      <td>Video Games</td> \\n      <td><a href=\"http://deepyeti.ucsd.edu/jianmo/amazon/categoryFiles/Video_Games.json.gz\">reviews</a> (2,565,349 reviews)</td> \\n      <td><a href=\"http://deepyeti.ucsd.edu/jianmo/amazon/metaFiles2/meta_Video_Games.json.gz\">metadata</a> (84,893 products)</td> \\n    </tr>\\n\\n</table>\\n</p>\\n\\n<div hidden>\\n<script type=\"text/javascript\" id=\"clustrmaps\" src=\"//cdn.clustrmaps.com/map_v2.js?d=rAbShXbNYL0SEZ9kN2AjLYEMcFP_lyfIpcq5lwYDs_A&cl=ffffff&w=a\"></script>\\n</div>\\n\\n</body>\\n</html>\\n\\n\\n\\n'"
     },
     "execution_count": 3,
     "metadata": {},
     "output_type": "execute_result"
    }
   ],
   "source": [
    "\n",
    "results = requests.get(data_url)\n",
    "src = results.content\n",
    "src"
   ],
   "metadata": {
    "collapsed": false,
    "pycharm": {
     "name": "#%%\n"
    }
   }
  },
  {
   "cell_type": "code",
   "execution_count": 4,
   "outputs": [
    {
     "data": {
      "text/plain": "<!DOCTYPE HTML PUBLIC \"-//W3C//DTD HTML 4.01 Transitional//EN\" \"http://www.w3.org/TR/html4/loose.dtd\">\n<html>\n<head>\n<title>Amazon review data</title>\n<meta content=\"Jianmo Ni\" name=\"author\"/>\n<meta content=\"text/html; charset=utf-8\" http-equiv=\"Content-Type\"/>\n<script language=\"javascript\" src=\"http://code.jquery.com/jquery-1.4.2.min.js\" type=\"text/javascript\"></script>\n<link href=\"https://cseweb.ucsd.edu/~jmcauley/style.css\" rel=\"stylesheet\" type=\"text/css\"/>\n</head>\n<body>\n<div id=\"left_column\">\n</div>\n<div id=\"main\">\n<!-- <div id=\"header\"> -->\n<h1>Amazon review data (2018)</h1>\n<p><b><a href=\"https://nijianmo.github.io\">Jianmo Ni</a></b>, UCSD</p>\n<h2>Citation</h2>\n<p>Please cite the following paper if you use the data in any way:</p>\n<p>\n<b>Justifying recommendations using distantly-labeled reviews and fined-grained aspects</b><br/>\n  Jianmo Ni, Jiacheng Li, Julian McAuley<br/>\n<em>Empirical Methods in Natural Language Processing (EMNLP)</em>, 2019<br/>\n<a href=\"http://cseweb.ucsd.edu/~jmcauley/pdfs/emnlp19a.pdf\">pdf</a>\n</p>\n<h2>Note</h2>\n<p>You should have <a href=\"https://forms.gle/A8hBfPxKkKGFCP238\">completed this form</a>. Note that we do not own the data, and as such we are not in a position to offer a license or control its use, however we request that the data be used for research purposes. \n</p>\n<p>If you are looking for smaller datasets such as percategory k-core files and ratings only files, please visit our <a href=\"https://nijianmo.github.io/amazon/index.html\">main dataset page</a>.\n</p>\n<h2>Files</h2>\n<h3>Complete review data</h3>\n<!-- <p>Please see the <b>per-category</b> files below, and only download these (large!) files if you really need them:</p> -->\n<p>You can download the complete dataset through the link on this website.</p>\n<p><b><a href=\"http://deepyeti.ucsd.edu/jianmo/amazon/categoryFiles/All_Amazon_Review.json.gz\">raw review data</a></b> (34gb) - all 233.1 million reviews</p>\n<p><b><a href=\"http://deepyeti.ucsd.edu/jianmo/amazon/categoryFilesSmall/all_csv_files.csv\">ratings only</a></b> (6.7gb) - same as above, in csv form without reviews or metadata\n</p><p><b><a href=\"http://deepyeti.ucsd.edu/jianmo/amazon/categoryFiles/All_Amazon_Review_5.json.gz\">5-core</a></b> (14.3gb) - subset of the data in which all users and items have at least 5 reviews (75.26 million reviews)</p>\n<p><b><a href=\"http://deepyeti.ucsd.edu/jianmo/amazon/metaFiles/All_Amazon_Meta.json.gz\">meta data</a></b> (12gb) - meta data for all products\n</p><ul>\n<li>We also provide a <a href=\"https://colab.research.google.com/drive/1Zv6MARGQcrBbLHyjPVVMZVnRWsRnVMpV\">colab notebook</a> that helps you parse and clean the data.\n  </li>\n</ul>\n<p><b><a href=\"http://deepyeti.ucsd.edu/jianmo/amazon/metaFiles/duplicates.txt\">duplicated product list</a></b> (126mb) - list of duplicated products</p>\n<p><b>Per-category data</b> - the review and product metadata for each category.</p>\n<p>\n</p><table class=\"code-table\" style=\"font-size: 0.7em; width:90%\">\n<tr>\n<td>AMAZON FASHION</td>\n<td><a href=\"http://deepyeti.ucsd.edu/jianmo/amazon/categoryFiles/AMAZON_FASHION.json.gz\">reviews</a> (883,636 reviews)</td>\n<td><a href=\"http://deepyeti.ucsd.edu/jianmo/amazon/metaFiles2/meta_AMAZON_FASHION.json.gz\">metadata</a> (186,637 products)</td>\n</tr>\n<tr>\n<td>All Beauty</td>\n<td><a href=\"http://deepyeti.ucsd.edu/jianmo/amazon/categoryFiles/All_Beauty.json.gz\">reviews</a> (371,345 reviews)</td>\n<td><a href=\"http://deepyeti.ucsd.edu/jianmo/amazon/metaFiles2/meta_All_Beauty.json.gz\">metadata</a> (32,992 products)</td>\n</tr>\n<tr>\n<td>Appliances</td>\n<td><a href=\"http://deepyeti.ucsd.edu/jianmo/amazon/categoryFiles/Appliances.json.gz\">reviews</a> (602,777 reviews)</td>\n<td><a href=\"http://deepyeti.ucsd.edu/jianmo/amazon/metaFiles2/meta_Appliances.json.gz\">metadata</a> (30,459 products)</td>\n</tr>\n<tr>\n<td>Arts Crafts and Sewing</td>\n<td><a href=\"http://deepyeti.ucsd.edu/jianmo/amazon/categoryFiles/Arts_Crafts_and_Sewing.json.gz\">reviews</a> (2,875,917 reviews)</td>\n<td><a href=\"http://deepyeti.ucsd.edu/jianmo/amazon/metaFiles2/meta_Arts_Crafts_and_Sewing.json.gz\">metadata</a> (303,426 products)</td>\n</tr>\n<tr>\n<td>Automotive</td>\n<td><a href=\"http://deepyeti.ucsd.edu/jianmo/amazon/categoryFiles/Automotive.json.gz\">reviews</a> (7,990,166 reviews)</td>\n<td><a href=\"http://deepyeti.ucsd.edu/jianmo/amazon/metaFiles2/meta_Automotive.json.gz\">metadata</a> (932,019 products)</td>\n</tr>\n<tr>\n<td>Books</td>\n<td><a href=\"http://deepyeti.ucsd.edu/jianmo/amazon/categoryFiles/Books.json.gz\">reviews</a> (51,311,621 reviews)</td>\n<td><a href=\"http://deepyeti.ucsd.edu/jianmo/amazon/metaFiles2/meta_Books.json.gz\">metadata</a> (2,935,525 products)</td>\n</tr>\n<tr>\n<td>CDs and Vinyl</td>\n<td><a href=\"http://deepyeti.ucsd.edu/jianmo/amazon/categoryFiles/CDs_and_Vinyl.json.gz\">reviews</a> (4,543,369 reviews)</td>\n<td><a href=\"http://deepyeti.ucsd.edu/jianmo/amazon/metaFiles2/meta_CDs_and_Vinyl.json.gz\">metadata</a> (544,442 products)</td>\n</tr>\n<tr>\n<td>Cell Phones and Accessories</td>\n<td><a href=\"http://deepyeti.ucsd.edu/jianmo/amazon/categoryFiles/Cell_Phones_and_Accessories.json.gz\">reviews</a> (10,063,255 reviews)</td>\n<td><a href=\"http://deepyeti.ucsd.edu/jianmo/amazon/metaFiles2/meta_Cell_Phones_and_Accessories.json.gz\">metadata</a> (590,269 products)</td>\n</tr>\n<tr>\n<td>Clothing Shoes and Jewelry</td>\n<td><a href=\"http://deepyeti.ucsd.edu/jianmo/amazon/categoryFiles/Clothing_Shoes_and_Jewelry.json.gz\">reviews</a> (32,292,099 reviews)</td>\n<td><a href=\"http://deepyeti.ucsd.edu/jianmo/amazon/metaFiles2/meta_Clothing_Shoes_and_Jewelry.json.gz\">metadata</a> (2,685,059 products)</td>\n</tr>\n<tr>\n<td>Digital Music</td>\n<td><a href=\"http://deepyeti.ucsd.edu/jianmo/amazon/categoryFiles/Digital_Music.json.gz\">reviews</a> (1,584,082 reviews)</td>\n<td><a href=\"http://deepyeti.ucsd.edu/jianmo/amazon/metaFiles2/meta_Digital_Music.json.gz\">metadata</a> (465,392 products)</td>\n</tr>\n<tr>\n<td>Electronics</td>\n<td><a href=\"http://deepyeti.ucsd.edu/jianmo/amazon/categoryFiles/Electronics.json.gz\">reviews</a> (20,994,353 reviews)</td>\n<td><a href=\"http://deepyeti.ucsd.edu/jianmo/amazon/metaFiles2/meta_Electronics.json.gz\">metadata</a> (786,868 products)</td>\n</tr>\n<tr>\n<td>Gift Cards</td>\n<td><a href=\"http://deepyeti.ucsd.edu/jianmo/amazon/categoryFiles/Gift_Cards.json.gz\">reviews</a> (147,194 reviews)</td>\n<td><a href=\"http://deepyeti.ucsd.edu/jianmo/amazon/metaFiles2/meta_Gift_Cards.json.gz\">metadata</a> (1,548 products)</td>\n</tr>\n<tr>\n<td>Grocery and Gourmet Food</td>\n<td><a href=\"http://deepyeti.ucsd.edu/jianmo/amazon/categoryFiles/Grocery_and_Gourmet_Food.json.gz\">reviews</a> (5,074,160 reviews)</td>\n<td><a href=\"http://deepyeti.ucsd.edu/jianmo/amazon/metaFiles2/meta_Grocery_and_Gourmet_Food.json.gz\">metadata</a> (287,209 products)</td>\n</tr>\n<tr>\n<td>Home and Kitchen</td>\n<td><a href=\"http://deepyeti.ucsd.edu/jianmo/amazon/categoryFiles/Home_and_Kitchen.json.gz\">reviews</a> (21,928,568 reviews)</td>\n<td><a href=\"http://deepyeti.ucsd.edu/jianmo/amazon/metaFiles2/meta_Home_and_Kitchen.json.gz\">metadata</a> (1,301,225 products)</td>\n</tr>\n<tr>\n<td>Industrial and Scientific</td>\n<td><a href=\"http://deepyeti.ucsd.edu/jianmo/amazon/categoryFiles/Industrial_and_Scientific.json.gz\">reviews</a> (1,758,333 reviews)</td>\n<td><a href=\"http://deepyeti.ucsd.edu/jianmo/amazon/metaFiles2/meta_Industrial_and_Scientific.json.gz\">metadata</a> (167,524 products)</td>\n</tr>\n<tr>\n<td>Kindle Store</td>\n<td><a href=\"http://deepyeti.ucsd.edu/jianmo/amazon/categoryFiles/Kindle_Store.json.gz\">reviews</a> (5,722,988 reviews)</td>\n<td><a href=\"http://deepyeti.ucsd.edu/jianmo/amazon/metaFiles2/meta_Kindle_Store.json.gz\">metadata</a> (493,859 products)</td>\n</tr>\n<tr>\n<td>Luxury Beauty</td>\n<td><a href=\"http://deepyeti.ucsd.edu/jianmo/amazon/categoryFiles/Luxury_Beauty.json.gz\">reviews</a> (574,628 reviews)</td>\n<td><a href=\"http://deepyeti.ucsd.edu/jianmo/amazon/metaFiles2/meta_Luxury_Beauty.json.gz\">metadata</a> (12,308 products)</td>\n</tr>\n<tr>\n<td>Magazine Subscriptions</td>\n<td><a href=\"http://deepyeti.ucsd.edu/jianmo/amazon/categoryFiles/Magazine_Subscriptions.json.gz\">reviews</a> (89,689 reviews)</td>\n<td><a href=\"http://deepyeti.ucsd.edu/jianmo/amazon/metaFiles2/meta_Magazine_Subscriptions.json.gz\">metadata</a> (3,493 products)</td>\n</tr>\n<tr>\n<td>Movies and TV</td>\n<td><a href=\"http://deepyeti.ucsd.edu/jianmo/amazon/categoryFiles/Movies_and_TV.json.gz\">reviews</a> (8,765,568 reviews)</td>\n<td><a href=\"http://deepyeti.ucsd.edu/jianmo/amazon/metaFiles2/meta_Movies_and_TV.json.gz\">metadata</a> (203,970 products)</td>\n</tr>\n<tr>\n<td>Musical Instruments</td>\n<td><a href=\"http://deepyeti.ucsd.edu/jianmo/amazon/categoryFiles/Musical_Instruments.json.gz\">reviews</a> (1,512,530 reviews)</td>\n<td><a href=\"http://deepyeti.ucsd.edu/jianmo/amazon/metaFiles2/meta_Musical_Instruments.json.gz\">metadata</a> (120,400 products)</td>\n</tr>\n<tr>\n<td>Office Products</td>\n<td><a href=\"http://deepyeti.ucsd.edu/jianmo/amazon/categoryFiles/Office_Products.json.gz\">reviews</a> (5,581,313 reviews)</td>\n<td><a href=\"http://deepyeti.ucsd.edu/jianmo/amazon/metaFiles2/meta_Office_Products.json.gz\">metadata</a> (315,644 products)</td>\n</tr>\n<tr>\n<td>Patio Lawn and Garden</td>\n<td><a href=\"http://deepyeti.ucsd.edu/jianmo/amazon/categoryFiles/Patio_Lawn_and_Garden.json.gz\">reviews</a> (5,236,058 reviews)</td>\n<td><a href=\"http://deepyeti.ucsd.edu/jianmo/amazon/metaFiles2/meta_Patio_Lawn_and_Garden.json.gz\">metadata</a> (279,697 products)</td>\n</tr>\n<tr>\n<td>Pet Supplies</td>\n<td><a href=\"http://deepyeti.ucsd.edu/jianmo/amazon/categoryFiles/Pet_Supplies.json.gz\">reviews</a> (6,542,483 reviews)</td>\n<td><a href=\"http://deepyeti.ucsd.edu/jianmo/amazon/metaFiles2/meta_Pet_Supplies.json.gz\">metadata</a> (206,141 products)</td>\n</tr>\n<tr>\n<td>Prime Pantry</td>\n<td><a href=\"http://deepyeti.ucsd.edu/jianmo/amazon/categoryFiles/Prime_Pantry.json.gz\">reviews</a> (471,614 reviews)</td>\n<td><a href=\"http://deepyeti.ucsd.edu/jianmo/amazon/metaFiles2/meta_Prime_Pantry.json.gz\">metadata</a> (10,815 products)</td>\n</tr>\n<tr>\n<td>Software</td>\n<td><a href=\"http://deepyeti.ucsd.edu/jianmo/amazon/categoryFiles/Software.json.gz\">reviews</a> (459,436 reviews)</td>\n<td><a href=\"http://deepyeti.ucsd.edu/jianmo/amazon/metaFiles2/meta_Software.json.gz\">metadata</a> (26,815 products)</td>\n</tr>\n<tr>\n<td>Sports and Outdoors</td>\n<td><a href=\"http://deepyeti.ucsd.edu/jianmo/amazon/categoryFiles/Sports_and_Outdoors.json.gz\">reviews</a> (12,980,837 reviews)</td>\n<td><a href=\"http://deepyeti.ucsd.edu/jianmo/amazon/metaFiles2/meta_Sports_and_Outdoors.json.gz\">metadata</a> (962,876 products)</td>\n</tr>\n<tr>\n<td>Tools and Home Improvement</td>\n<td><a href=\"http://deepyeti.ucsd.edu/jianmo/amazon/categoryFiles/Tools_and_Home_Improvement.json.gz\">reviews</a> (9,015,203 reviews)</td>\n<td><a href=\"http://deepyeti.ucsd.edu/jianmo/amazon/metaFiles2/meta_Tools_and_Home_Improvement.json.gz\">metadata</a> (571,982 products)</td>\n</tr>\n<tr>\n<td>Toys and Games</td>\n<td><a href=\"http://deepyeti.ucsd.edu/jianmo/amazon/categoryFiles/Toys_and_Games.json.gz\">reviews</a> (8,201,231 reviews)</td>\n<td><a href=\"http://deepyeti.ucsd.edu/jianmo/amazon/metaFiles2/meta_Toys_and_Games.json.gz\">metadata</a> (634,414 products)</td>\n</tr>\n<tr>\n<td>Video Games</td>\n<td><a href=\"http://deepyeti.ucsd.edu/jianmo/amazon/categoryFiles/Video_Games.json.gz\">reviews</a> (2,565,349 reviews)</td>\n<td><a href=\"http://deepyeti.ucsd.edu/jianmo/amazon/metaFiles2/meta_Video_Games.json.gz\">metadata</a> (84,893 products)</td>\n</tr>\n</table>\n<div hidden=\"\">\n<script id=\"clustrmaps\" src=\"//cdn.clustrmaps.com/map_v2.js?d=rAbShXbNYL0SEZ9kN2AjLYEMcFP_lyfIpcq5lwYDs_A&amp;cl=ffffff&amp;w=a\" type=\"text/javascript\"></script>\n</div>\n</div></body>\n</html>"
     },
     "execution_count": 4,
     "metadata": {},
     "output_type": "execute_result"
    }
   ],
   "source": [
    "soup = bs(src, 'lxml')\n",
    "soup"
   ],
   "metadata": {
    "collapsed": false,
    "pycharm": {
     "name": "#%%\n"
    }
   }
  },
  {
   "cell_type": "code",
   "execution_count": 5,
   "outputs": [
    {
     "data": {
      "text/plain": "<table class=\"code-table\" style=\"font-size: 0.7em; width:90%\">\n<tr>\n<td>AMAZON FASHION</td>\n<td><a href=\"http://deepyeti.ucsd.edu/jianmo/amazon/categoryFiles/AMAZON_FASHION.json.gz\">reviews</a> (883,636 reviews)</td>\n<td><a href=\"http://deepyeti.ucsd.edu/jianmo/amazon/metaFiles2/meta_AMAZON_FASHION.json.gz\">metadata</a> (186,637 products)</td>\n</tr>\n<tr>\n<td>All Beauty</td>\n<td><a href=\"http://deepyeti.ucsd.edu/jianmo/amazon/categoryFiles/All_Beauty.json.gz\">reviews</a> (371,345 reviews)</td>\n<td><a href=\"http://deepyeti.ucsd.edu/jianmo/amazon/metaFiles2/meta_All_Beauty.json.gz\">metadata</a> (32,992 products)</td>\n</tr>\n<tr>\n<td>Appliances</td>\n<td><a href=\"http://deepyeti.ucsd.edu/jianmo/amazon/categoryFiles/Appliances.json.gz\">reviews</a> (602,777 reviews)</td>\n<td><a href=\"http://deepyeti.ucsd.edu/jianmo/amazon/metaFiles2/meta_Appliances.json.gz\">metadata</a> (30,459 products)</td>\n</tr>\n<tr>\n<td>Arts Crafts and Sewing</td>\n<td><a href=\"http://deepyeti.ucsd.edu/jianmo/amazon/categoryFiles/Arts_Crafts_and_Sewing.json.gz\">reviews</a> (2,875,917 reviews)</td>\n<td><a href=\"http://deepyeti.ucsd.edu/jianmo/amazon/metaFiles2/meta_Arts_Crafts_and_Sewing.json.gz\">metadata</a> (303,426 products)</td>\n</tr>\n<tr>\n<td>Automotive</td>\n<td><a href=\"http://deepyeti.ucsd.edu/jianmo/amazon/categoryFiles/Automotive.json.gz\">reviews</a> (7,990,166 reviews)</td>\n<td><a href=\"http://deepyeti.ucsd.edu/jianmo/amazon/metaFiles2/meta_Automotive.json.gz\">metadata</a> (932,019 products)</td>\n</tr>\n<tr>\n<td>Books</td>\n<td><a href=\"http://deepyeti.ucsd.edu/jianmo/amazon/categoryFiles/Books.json.gz\">reviews</a> (51,311,621 reviews)</td>\n<td><a href=\"http://deepyeti.ucsd.edu/jianmo/amazon/metaFiles2/meta_Books.json.gz\">metadata</a> (2,935,525 products)</td>\n</tr>\n<tr>\n<td>CDs and Vinyl</td>\n<td><a href=\"http://deepyeti.ucsd.edu/jianmo/amazon/categoryFiles/CDs_and_Vinyl.json.gz\">reviews</a> (4,543,369 reviews)</td>\n<td><a href=\"http://deepyeti.ucsd.edu/jianmo/amazon/metaFiles2/meta_CDs_and_Vinyl.json.gz\">metadata</a> (544,442 products)</td>\n</tr>\n<tr>\n<td>Cell Phones and Accessories</td>\n<td><a href=\"http://deepyeti.ucsd.edu/jianmo/amazon/categoryFiles/Cell_Phones_and_Accessories.json.gz\">reviews</a> (10,063,255 reviews)</td>\n<td><a href=\"http://deepyeti.ucsd.edu/jianmo/amazon/metaFiles2/meta_Cell_Phones_and_Accessories.json.gz\">metadata</a> (590,269 products)</td>\n</tr>\n<tr>\n<td>Clothing Shoes and Jewelry</td>\n<td><a href=\"http://deepyeti.ucsd.edu/jianmo/amazon/categoryFiles/Clothing_Shoes_and_Jewelry.json.gz\">reviews</a> (32,292,099 reviews)</td>\n<td><a href=\"http://deepyeti.ucsd.edu/jianmo/amazon/metaFiles2/meta_Clothing_Shoes_and_Jewelry.json.gz\">metadata</a> (2,685,059 products)</td>\n</tr>\n<tr>\n<td>Digital Music</td>\n<td><a href=\"http://deepyeti.ucsd.edu/jianmo/amazon/categoryFiles/Digital_Music.json.gz\">reviews</a> (1,584,082 reviews)</td>\n<td><a href=\"http://deepyeti.ucsd.edu/jianmo/amazon/metaFiles2/meta_Digital_Music.json.gz\">metadata</a> (465,392 products)</td>\n</tr>\n<tr>\n<td>Electronics</td>\n<td><a href=\"http://deepyeti.ucsd.edu/jianmo/amazon/categoryFiles/Electronics.json.gz\">reviews</a> (20,994,353 reviews)</td>\n<td><a href=\"http://deepyeti.ucsd.edu/jianmo/amazon/metaFiles2/meta_Electronics.json.gz\">metadata</a> (786,868 products)</td>\n</tr>\n<tr>\n<td>Gift Cards</td>\n<td><a href=\"http://deepyeti.ucsd.edu/jianmo/amazon/categoryFiles/Gift_Cards.json.gz\">reviews</a> (147,194 reviews)</td>\n<td><a href=\"http://deepyeti.ucsd.edu/jianmo/amazon/metaFiles2/meta_Gift_Cards.json.gz\">metadata</a> (1,548 products)</td>\n</tr>\n<tr>\n<td>Grocery and Gourmet Food</td>\n<td><a href=\"http://deepyeti.ucsd.edu/jianmo/amazon/categoryFiles/Grocery_and_Gourmet_Food.json.gz\">reviews</a> (5,074,160 reviews)</td>\n<td><a href=\"http://deepyeti.ucsd.edu/jianmo/amazon/metaFiles2/meta_Grocery_and_Gourmet_Food.json.gz\">metadata</a> (287,209 products)</td>\n</tr>\n<tr>\n<td>Home and Kitchen</td>\n<td><a href=\"http://deepyeti.ucsd.edu/jianmo/amazon/categoryFiles/Home_and_Kitchen.json.gz\">reviews</a> (21,928,568 reviews)</td>\n<td><a href=\"http://deepyeti.ucsd.edu/jianmo/amazon/metaFiles2/meta_Home_and_Kitchen.json.gz\">metadata</a> (1,301,225 products)</td>\n</tr>\n<tr>\n<td>Industrial and Scientific</td>\n<td><a href=\"http://deepyeti.ucsd.edu/jianmo/amazon/categoryFiles/Industrial_and_Scientific.json.gz\">reviews</a> (1,758,333 reviews)</td>\n<td><a href=\"http://deepyeti.ucsd.edu/jianmo/amazon/metaFiles2/meta_Industrial_and_Scientific.json.gz\">metadata</a> (167,524 products)</td>\n</tr>\n<tr>\n<td>Kindle Store</td>\n<td><a href=\"http://deepyeti.ucsd.edu/jianmo/amazon/categoryFiles/Kindle_Store.json.gz\">reviews</a> (5,722,988 reviews)</td>\n<td><a href=\"http://deepyeti.ucsd.edu/jianmo/amazon/metaFiles2/meta_Kindle_Store.json.gz\">metadata</a> (493,859 products)</td>\n</tr>\n<tr>\n<td>Luxury Beauty</td>\n<td><a href=\"http://deepyeti.ucsd.edu/jianmo/amazon/categoryFiles/Luxury_Beauty.json.gz\">reviews</a> (574,628 reviews)</td>\n<td><a href=\"http://deepyeti.ucsd.edu/jianmo/amazon/metaFiles2/meta_Luxury_Beauty.json.gz\">metadata</a> (12,308 products)</td>\n</tr>\n<tr>\n<td>Magazine Subscriptions</td>\n<td><a href=\"http://deepyeti.ucsd.edu/jianmo/amazon/categoryFiles/Magazine_Subscriptions.json.gz\">reviews</a> (89,689 reviews)</td>\n<td><a href=\"http://deepyeti.ucsd.edu/jianmo/amazon/metaFiles2/meta_Magazine_Subscriptions.json.gz\">metadata</a> (3,493 products)</td>\n</tr>\n<tr>\n<td>Movies and TV</td>\n<td><a href=\"http://deepyeti.ucsd.edu/jianmo/amazon/categoryFiles/Movies_and_TV.json.gz\">reviews</a> (8,765,568 reviews)</td>\n<td><a href=\"http://deepyeti.ucsd.edu/jianmo/amazon/metaFiles2/meta_Movies_and_TV.json.gz\">metadata</a> (203,970 products)</td>\n</tr>\n<tr>\n<td>Musical Instruments</td>\n<td><a href=\"http://deepyeti.ucsd.edu/jianmo/amazon/categoryFiles/Musical_Instruments.json.gz\">reviews</a> (1,512,530 reviews)</td>\n<td><a href=\"http://deepyeti.ucsd.edu/jianmo/amazon/metaFiles2/meta_Musical_Instruments.json.gz\">metadata</a> (120,400 products)</td>\n</tr>\n<tr>\n<td>Office Products</td>\n<td><a href=\"http://deepyeti.ucsd.edu/jianmo/amazon/categoryFiles/Office_Products.json.gz\">reviews</a> (5,581,313 reviews)</td>\n<td><a href=\"http://deepyeti.ucsd.edu/jianmo/amazon/metaFiles2/meta_Office_Products.json.gz\">metadata</a> (315,644 products)</td>\n</tr>\n<tr>\n<td>Patio Lawn and Garden</td>\n<td><a href=\"http://deepyeti.ucsd.edu/jianmo/amazon/categoryFiles/Patio_Lawn_and_Garden.json.gz\">reviews</a> (5,236,058 reviews)</td>\n<td><a href=\"http://deepyeti.ucsd.edu/jianmo/amazon/metaFiles2/meta_Patio_Lawn_and_Garden.json.gz\">metadata</a> (279,697 products)</td>\n</tr>\n<tr>\n<td>Pet Supplies</td>\n<td><a href=\"http://deepyeti.ucsd.edu/jianmo/amazon/categoryFiles/Pet_Supplies.json.gz\">reviews</a> (6,542,483 reviews)</td>\n<td><a href=\"http://deepyeti.ucsd.edu/jianmo/amazon/metaFiles2/meta_Pet_Supplies.json.gz\">metadata</a> (206,141 products)</td>\n</tr>\n<tr>\n<td>Prime Pantry</td>\n<td><a href=\"http://deepyeti.ucsd.edu/jianmo/amazon/categoryFiles/Prime_Pantry.json.gz\">reviews</a> (471,614 reviews)</td>\n<td><a href=\"http://deepyeti.ucsd.edu/jianmo/amazon/metaFiles2/meta_Prime_Pantry.json.gz\">metadata</a> (10,815 products)</td>\n</tr>\n<tr>\n<td>Software</td>\n<td><a href=\"http://deepyeti.ucsd.edu/jianmo/amazon/categoryFiles/Software.json.gz\">reviews</a> (459,436 reviews)</td>\n<td><a href=\"http://deepyeti.ucsd.edu/jianmo/amazon/metaFiles2/meta_Software.json.gz\">metadata</a> (26,815 products)</td>\n</tr>\n<tr>\n<td>Sports and Outdoors</td>\n<td><a href=\"http://deepyeti.ucsd.edu/jianmo/amazon/categoryFiles/Sports_and_Outdoors.json.gz\">reviews</a> (12,980,837 reviews)</td>\n<td><a href=\"http://deepyeti.ucsd.edu/jianmo/amazon/metaFiles2/meta_Sports_and_Outdoors.json.gz\">metadata</a> (962,876 products)</td>\n</tr>\n<tr>\n<td>Tools and Home Improvement</td>\n<td><a href=\"http://deepyeti.ucsd.edu/jianmo/amazon/categoryFiles/Tools_and_Home_Improvement.json.gz\">reviews</a> (9,015,203 reviews)</td>\n<td><a href=\"http://deepyeti.ucsd.edu/jianmo/amazon/metaFiles2/meta_Tools_and_Home_Improvement.json.gz\">metadata</a> (571,982 products)</td>\n</tr>\n<tr>\n<td>Toys and Games</td>\n<td><a href=\"http://deepyeti.ucsd.edu/jianmo/amazon/categoryFiles/Toys_and_Games.json.gz\">reviews</a> (8,201,231 reviews)</td>\n<td><a href=\"http://deepyeti.ucsd.edu/jianmo/amazon/metaFiles2/meta_Toys_and_Games.json.gz\">metadata</a> (634,414 products)</td>\n</tr>\n<tr>\n<td>Video Games</td>\n<td><a href=\"http://deepyeti.ucsd.edu/jianmo/amazon/categoryFiles/Video_Games.json.gz\">reviews</a> (2,565,349 reviews)</td>\n<td><a href=\"http://deepyeti.ucsd.edu/jianmo/amazon/metaFiles2/meta_Video_Games.json.gz\">metadata</a> (84,893 products)</td>\n</tr>\n</table>"
     },
     "execution_count": 5,
     "metadata": {},
     "output_type": "execute_result"
    }
   ],
   "source": [
    "table_soup = soup.find('table',{'class':'code-table'})\n",
    "table_soup"
   ],
   "metadata": {
    "collapsed": false,
    "pycharm": {
     "name": "#%%\n"
    }
   }
  },
  {
   "cell_type": "code",
   "execution_count": 6,
   "outputs": [
    {
     "data": {
      "text/plain": "[<td>AMAZON FASHION</td>,\n <td><a href=\"http://deepyeti.ucsd.edu/jianmo/amazon/categoryFiles/AMAZON_FASHION.json.gz\">reviews</a> (883,636 reviews)</td>,\n <td><a href=\"http://deepyeti.ucsd.edu/jianmo/amazon/metaFiles2/meta_AMAZON_FASHION.json.gz\">metadata</a> (186,637 products)</td>,\n <td>All Beauty</td>,\n <td><a href=\"http://deepyeti.ucsd.edu/jianmo/amazon/categoryFiles/All_Beauty.json.gz\">reviews</a> (371,345 reviews)</td>,\n <td><a href=\"http://deepyeti.ucsd.edu/jianmo/amazon/metaFiles2/meta_All_Beauty.json.gz\">metadata</a> (32,992 products)</td>,\n <td>Appliances</td>,\n <td><a href=\"http://deepyeti.ucsd.edu/jianmo/amazon/categoryFiles/Appliances.json.gz\">reviews</a> (602,777 reviews)</td>,\n <td><a href=\"http://deepyeti.ucsd.edu/jianmo/amazon/metaFiles2/meta_Appliances.json.gz\">metadata</a> (30,459 products)</td>,\n <td>Arts Crafts and Sewing</td>,\n <td><a href=\"http://deepyeti.ucsd.edu/jianmo/amazon/categoryFiles/Arts_Crafts_and_Sewing.json.gz\">reviews</a> (2,875,917 reviews)</td>,\n <td><a href=\"http://deepyeti.ucsd.edu/jianmo/amazon/metaFiles2/meta_Arts_Crafts_and_Sewing.json.gz\">metadata</a> (303,426 products)</td>,\n <td>Automotive</td>,\n <td><a href=\"http://deepyeti.ucsd.edu/jianmo/amazon/categoryFiles/Automotive.json.gz\">reviews</a> (7,990,166 reviews)</td>,\n <td><a href=\"http://deepyeti.ucsd.edu/jianmo/amazon/metaFiles2/meta_Automotive.json.gz\">metadata</a> (932,019 products)</td>,\n <td>Books</td>,\n <td><a href=\"http://deepyeti.ucsd.edu/jianmo/amazon/categoryFiles/Books.json.gz\">reviews</a> (51,311,621 reviews)</td>,\n <td><a href=\"http://deepyeti.ucsd.edu/jianmo/amazon/metaFiles2/meta_Books.json.gz\">metadata</a> (2,935,525 products)</td>,\n <td>CDs and Vinyl</td>,\n <td><a href=\"http://deepyeti.ucsd.edu/jianmo/amazon/categoryFiles/CDs_and_Vinyl.json.gz\">reviews</a> (4,543,369 reviews)</td>,\n <td><a href=\"http://deepyeti.ucsd.edu/jianmo/amazon/metaFiles2/meta_CDs_and_Vinyl.json.gz\">metadata</a> (544,442 products)</td>,\n <td>Cell Phones and Accessories</td>,\n <td><a href=\"http://deepyeti.ucsd.edu/jianmo/amazon/categoryFiles/Cell_Phones_and_Accessories.json.gz\">reviews</a> (10,063,255 reviews)</td>,\n <td><a href=\"http://deepyeti.ucsd.edu/jianmo/amazon/metaFiles2/meta_Cell_Phones_and_Accessories.json.gz\">metadata</a> (590,269 products)</td>,\n <td>Clothing Shoes and Jewelry</td>,\n <td><a href=\"http://deepyeti.ucsd.edu/jianmo/amazon/categoryFiles/Clothing_Shoes_and_Jewelry.json.gz\">reviews</a> (32,292,099 reviews)</td>,\n <td><a href=\"http://deepyeti.ucsd.edu/jianmo/amazon/metaFiles2/meta_Clothing_Shoes_and_Jewelry.json.gz\">metadata</a> (2,685,059 products)</td>,\n <td>Digital Music</td>,\n <td><a href=\"http://deepyeti.ucsd.edu/jianmo/amazon/categoryFiles/Digital_Music.json.gz\">reviews</a> (1,584,082 reviews)</td>,\n <td><a href=\"http://deepyeti.ucsd.edu/jianmo/amazon/metaFiles2/meta_Digital_Music.json.gz\">metadata</a> (465,392 products)</td>,\n <td>Electronics</td>,\n <td><a href=\"http://deepyeti.ucsd.edu/jianmo/amazon/categoryFiles/Electronics.json.gz\">reviews</a> (20,994,353 reviews)</td>,\n <td><a href=\"http://deepyeti.ucsd.edu/jianmo/amazon/metaFiles2/meta_Electronics.json.gz\">metadata</a> (786,868 products)</td>,\n <td>Gift Cards</td>,\n <td><a href=\"http://deepyeti.ucsd.edu/jianmo/amazon/categoryFiles/Gift_Cards.json.gz\">reviews</a> (147,194 reviews)</td>,\n <td><a href=\"http://deepyeti.ucsd.edu/jianmo/amazon/metaFiles2/meta_Gift_Cards.json.gz\">metadata</a> (1,548 products)</td>,\n <td>Grocery and Gourmet Food</td>,\n <td><a href=\"http://deepyeti.ucsd.edu/jianmo/amazon/categoryFiles/Grocery_and_Gourmet_Food.json.gz\">reviews</a> (5,074,160 reviews)</td>,\n <td><a href=\"http://deepyeti.ucsd.edu/jianmo/amazon/metaFiles2/meta_Grocery_and_Gourmet_Food.json.gz\">metadata</a> (287,209 products)</td>,\n <td>Home and Kitchen</td>,\n <td><a href=\"http://deepyeti.ucsd.edu/jianmo/amazon/categoryFiles/Home_and_Kitchen.json.gz\">reviews</a> (21,928,568 reviews)</td>,\n <td><a href=\"http://deepyeti.ucsd.edu/jianmo/amazon/metaFiles2/meta_Home_and_Kitchen.json.gz\">metadata</a> (1,301,225 products)</td>,\n <td>Industrial and Scientific</td>,\n <td><a href=\"http://deepyeti.ucsd.edu/jianmo/amazon/categoryFiles/Industrial_and_Scientific.json.gz\">reviews</a> (1,758,333 reviews)</td>,\n <td><a href=\"http://deepyeti.ucsd.edu/jianmo/amazon/metaFiles2/meta_Industrial_and_Scientific.json.gz\">metadata</a> (167,524 products)</td>,\n <td>Kindle Store</td>,\n <td><a href=\"http://deepyeti.ucsd.edu/jianmo/amazon/categoryFiles/Kindle_Store.json.gz\">reviews</a> (5,722,988 reviews)</td>,\n <td><a href=\"http://deepyeti.ucsd.edu/jianmo/amazon/metaFiles2/meta_Kindle_Store.json.gz\">metadata</a> (493,859 products)</td>,\n <td>Luxury Beauty</td>,\n <td><a href=\"http://deepyeti.ucsd.edu/jianmo/amazon/categoryFiles/Luxury_Beauty.json.gz\">reviews</a> (574,628 reviews)</td>,\n <td><a href=\"http://deepyeti.ucsd.edu/jianmo/amazon/metaFiles2/meta_Luxury_Beauty.json.gz\">metadata</a> (12,308 products)</td>,\n <td>Magazine Subscriptions</td>,\n <td><a href=\"http://deepyeti.ucsd.edu/jianmo/amazon/categoryFiles/Magazine_Subscriptions.json.gz\">reviews</a> (89,689 reviews)</td>,\n <td><a href=\"http://deepyeti.ucsd.edu/jianmo/amazon/metaFiles2/meta_Magazine_Subscriptions.json.gz\">metadata</a> (3,493 products)</td>,\n <td>Movies and TV</td>,\n <td><a href=\"http://deepyeti.ucsd.edu/jianmo/amazon/categoryFiles/Movies_and_TV.json.gz\">reviews</a> (8,765,568 reviews)</td>,\n <td><a href=\"http://deepyeti.ucsd.edu/jianmo/amazon/metaFiles2/meta_Movies_and_TV.json.gz\">metadata</a> (203,970 products)</td>,\n <td>Musical Instruments</td>,\n <td><a href=\"http://deepyeti.ucsd.edu/jianmo/amazon/categoryFiles/Musical_Instruments.json.gz\">reviews</a> (1,512,530 reviews)</td>,\n <td><a href=\"http://deepyeti.ucsd.edu/jianmo/amazon/metaFiles2/meta_Musical_Instruments.json.gz\">metadata</a> (120,400 products)</td>,\n <td>Office Products</td>,\n <td><a href=\"http://deepyeti.ucsd.edu/jianmo/amazon/categoryFiles/Office_Products.json.gz\">reviews</a> (5,581,313 reviews)</td>,\n <td><a href=\"http://deepyeti.ucsd.edu/jianmo/amazon/metaFiles2/meta_Office_Products.json.gz\">metadata</a> (315,644 products)</td>,\n <td>Patio Lawn and Garden</td>,\n <td><a href=\"http://deepyeti.ucsd.edu/jianmo/amazon/categoryFiles/Patio_Lawn_and_Garden.json.gz\">reviews</a> (5,236,058 reviews)</td>,\n <td><a href=\"http://deepyeti.ucsd.edu/jianmo/amazon/metaFiles2/meta_Patio_Lawn_and_Garden.json.gz\">metadata</a> (279,697 products)</td>,\n <td>Pet Supplies</td>,\n <td><a href=\"http://deepyeti.ucsd.edu/jianmo/amazon/categoryFiles/Pet_Supplies.json.gz\">reviews</a> (6,542,483 reviews)</td>,\n <td><a href=\"http://deepyeti.ucsd.edu/jianmo/amazon/metaFiles2/meta_Pet_Supplies.json.gz\">metadata</a> (206,141 products)</td>,\n <td>Prime Pantry</td>,\n <td><a href=\"http://deepyeti.ucsd.edu/jianmo/amazon/categoryFiles/Prime_Pantry.json.gz\">reviews</a> (471,614 reviews)</td>,\n <td><a href=\"http://deepyeti.ucsd.edu/jianmo/amazon/metaFiles2/meta_Prime_Pantry.json.gz\">metadata</a> (10,815 products)</td>,\n <td>Software</td>,\n <td><a href=\"http://deepyeti.ucsd.edu/jianmo/amazon/categoryFiles/Software.json.gz\">reviews</a> (459,436 reviews)</td>,\n <td><a href=\"http://deepyeti.ucsd.edu/jianmo/amazon/metaFiles2/meta_Software.json.gz\">metadata</a> (26,815 products)</td>,\n <td>Sports and Outdoors</td>,\n <td><a href=\"http://deepyeti.ucsd.edu/jianmo/amazon/categoryFiles/Sports_and_Outdoors.json.gz\">reviews</a> (12,980,837 reviews)</td>,\n <td><a href=\"http://deepyeti.ucsd.edu/jianmo/amazon/metaFiles2/meta_Sports_and_Outdoors.json.gz\">metadata</a> (962,876 products)</td>,\n <td>Tools and Home Improvement</td>,\n <td><a href=\"http://deepyeti.ucsd.edu/jianmo/amazon/categoryFiles/Tools_and_Home_Improvement.json.gz\">reviews</a> (9,015,203 reviews)</td>,\n <td><a href=\"http://deepyeti.ucsd.edu/jianmo/amazon/metaFiles2/meta_Tools_and_Home_Improvement.json.gz\">metadata</a> (571,982 products)</td>,\n <td>Toys and Games</td>,\n <td><a href=\"http://deepyeti.ucsd.edu/jianmo/amazon/categoryFiles/Toys_and_Games.json.gz\">reviews</a> (8,201,231 reviews)</td>,\n <td><a href=\"http://deepyeti.ucsd.edu/jianmo/amazon/metaFiles2/meta_Toys_and_Games.json.gz\">metadata</a> (634,414 products)</td>,\n <td>Video Games</td>,\n <td><a href=\"http://deepyeti.ucsd.edu/jianmo/amazon/categoryFiles/Video_Games.json.gz\">reviews</a> (2,565,349 reviews)</td>,\n <td><a href=\"http://deepyeti.ucsd.edu/jianmo/amazon/metaFiles2/meta_Video_Games.json.gz\">metadata</a> (84,893 products)</td>]"
     },
     "execution_count": 6,
     "metadata": {},
     "output_type": "execute_result"
    }
   ],
   "source": [
    "td_soup = table_soup.find_all('td')\n",
    "td_soup"
   ],
   "metadata": {
    "collapsed": false,
    "pycharm": {
     "name": "#%%\n"
    }
   }
  },
  {
   "cell_type": "code",
   "execution_count": 7,
   "outputs": [
    {
     "data": {
      "text/plain": "'reviews'"
     },
     "execution_count": 7,
     "metadata": {},
     "output_type": "execute_result"
    }
   ],
   "source": [
    "td_soup[1].find('a').text"
   ],
   "metadata": {
    "collapsed": false,
    "pycharm": {
     "name": "#%%\n"
    }
   }
  },
  {
   "cell_type": "markdown",
   "source": [
    "# Scrape for the downloading list"
   ],
   "metadata": {
    "collapsed": false,
    "pycharm": {
     "name": "#%% md\n"
    }
   }
  },
  {
   "cell_type": "code",
   "execution_count": 8,
   "outputs": [
    {
     "name": "stdout",
     "output_type": "stream",
     "text": [
      "No0. No href\n",
      "No1. http://deepyeti.ucsd.edu/jianmo/amazon/categoryFiles/AMAZON_FASHION.json.gz, reviews\n",
      "No2. http://deepyeti.ucsd.edu/jianmo/amazon/metaFiles2/meta_AMAZON_FASHION.json.gz, meta-data\n",
      "No3. No href\n",
      "No4. http://deepyeti.ucsd.edu/jianmo/amazon/categoryFiles/All_Beauty.json.gz, reviews\n",
      "No5. http://deepyeti.ucsd.edu/jianmo/amazon/metaFiles2/meta_All_Beauty.json.gz, meta-data\n",
      "No6. No href\n",
      "No7. http://deepyeti.ucsd.edu/jianmo/amazon/categoryFiles/Appliances.json.gz, reviews\n",
      "No8. http://deepyeti.ucsd.edu/jianmo/amazon/metaFiles2/meta_Appliances.json.gz, meta-data\n",
      "No9. No href\n",
      "No10. http://deepyeti.ucsd.edu/jianmo/amazon/categoryFiles/Arts_Crafts_and_Sewing.json.gz, reviews\n",
      "No11. http://deepyeti.ucsd.edu/jianmo/amazon/metaFiles2/meta_Arts_Crafts_and_Sewing.json.gz, meta-data\n",
      "No12. No href\n",
      "No13. http://deepyeti.ucsd.edu/jianmo/amazon/categoryFiles/Automotive.json.gz, reviews\n",
      "No14. http://deepyeti.ucsd.edu/jianmo/amazon/metaFiles2/meta_Automotive.json.gz, meta-data\n",
      "No15. No href\n",
      "No16. http://deepyeti.ucsd.edu/jianmo/amazon/categoryFiles/Books.json.gz, reviews\n",
      "No17. http://deepyeti.ucsd.edu/jianmo/amazon/metaFiles2/meta_Books.json.gz, meta-data\n",
      "No18. No href\n",
      "No19. http://deepyeti.ucsd.edu/jianmo/amazon/categoryFiles/CDs_and_Vinyl.json.gz, reviews\n",
      "No20. http://deepyeti.ucsd.edu/jianmo/amazon/metaFiles2/meta_CDs_and_Vinyl.json.gz, meta-data\n",
      "No21. No href\n",
      "No22. http://deepyeti.ucsd.edu/jianmo/amazon/categoryFiles/Cell_Phones_and_Accessories.json.gz, reviews\n",
      "No23. http://deepyeti.ucsd.edu/jianmo/amazon/metaFiles2/meta_Cell_Phones_and_Accessories.json.gz, meta-data\n",
      "No24. No href\n",
      "No25. http://deepyeti.ucsd.edu/jianmo/amazon/categoryFiles/Clothing_Shoes_and_Jewelry.json.gz, reviews\n",
      "No26. http://deepyeti.ucsd.edu/jianmo/amazon/metaFiles2/meta_Clothing_Shoes_and_Jewelry.json.gz, meta-data\n",
      "No27. No href\n",
      "No28. http://deepyeti.ucsd.edu/jianmo/amazon/categoryFiles/Digital_Music.json.gz, reviews\n",
      "No29. http://deepyeti.ucsd.edu/jianmo/amazon/metaFiles2/meta_Digital_Music.json.gz, meta-data\n",
      "No30. No href\n",
      "No31. http://deepyeti.ucsd.edu/jianmo/amazon/categoryFiles/Electronics.json.gz, reviews\n",
      "No32. http://deepyeti.ucsd.edu/jianmo/amazon/metaFiles2/meta_Electronics.json.gz, meta-data\n",
      "No33. No href\n",
      "No34. http://deepyeti.ucsd.edu/jianmo/amazon/categoryFiles/Gift_Cards.json.gz, reviews\n",
      "No35. http://deepyeti.ucsd.edu/jianmo/amazon/metaFiles2/meta_Gift_Cards.json.gz, meta-data\n",
      "No36. No href\n",
      "No37. http://deepyeti.ucsd.edu/jianmo/amazon/categoryFiles/Grocery_and_Gourmet_Food.json.gz, reviews\n",
      "No38. http://deepyeti.ucsd.edu/jianmo/amazon/metaFiles2/meta_Grocery_and_Gourmet_Food.json.gz, meta-data\n",
      "No39. No href\n",
      "No40. http://deepyeti.ucsd.edu/jianmo/amazon/categoryFiles/Home_and_Kitchen.json.gz, reviews\n",
      "No41. http://deepyeti.ucsd.edu/jianmo/amazon/metaFiles2/meta_Home_and_Kitchen.json.gz, meta-data\n",
      "No42. No href\n",
      "No43. http://deepyeti.ucsd.edu/jianmo/amazon/categoryFiles/Industrial_and_Scientific.json.gz, reviews\n",
      "No44. http://deepyeti.ucsd.edu/jianmo/amazon/metaFiles2/meta_Industrial_and_Scientific.json.gz, meta-data\n",
      "No45. No href\n",
      "No46. http://deepyeti.ucsd.edu/jianmo/amazon/categoryFiles/Kindle_Store.json.gz, reviews\n",
      "No47. http://deepyeti.ucsd.edu/jianmo/amazon/metaFiles2/meta_Kindle_Store.json.gz, meta-data\n",
      "No48. No href\n",
      "No49. http://deepyeti.ucsd.edu/jianmo/amazon/categoryFiles/Luxury_Beauty.json.gz, reviews\n",
      "No50. http://deepyeti.ucsd.edu/jianmo/amazon/metaFiles2/meta_Luxury_Beauty.json.gz, meta-data\n",
      "No51. No href\n",
      "No52. http://deepyeti.ucsd.edu/jianmo/amazon/categoryFiles/Magazine_Subscriptions.json.gz, reviews\n",
      "No53. http://deepyeti.ucsd.edu/jianmo/amazon/metaFiles2/meta_Magazine_Subscriptions.json.gz, meta-data\n",
      "No54. No href\n",
      "No55. http://deepyeti.ucsd.edu/jianmo/amazon/categoryFiles/Movies_and_TV.json.gz, reviews\n",
      "No56. http://deepyeti.ucsd.edu/jianmo/amazon/metaFiles2/meta_Movies_and_TV.json.gz, meta-data\n",
      "No57. No href\n",
      "No58. http://deepyeti.ucsd.edu/jianmo/amazon/categoryFiles/Musical_Instruments.json.gz, reviews\n",
      "No59. http://deepyeti.ucsd.edu/jianmo/amazon/metaFiles2/meta_Musical_Instruments.json.gz, meta-data\n",
      "No60. No href\n",
      "No61. http://deepyeti.ucsd.edu/jianmo/amazon/categoryFiles/Office_Products.json.gz, reviews\n",
      "No62. http://deepyeti.ucsd.edu/jianmo/amazon/metaFiles2/meta_Office_Products.json.gz, meta-data\n",
      "No63. No href\n",
      "No64. http://deepyeti.ucsd.edu/jianmo/amazon/categoryFiles/Patio_Lawn_and_Garden.json.gz, reviews\n",
      "No65. http://deepyeti.ucsd.edu/jianmo/amazon/metaFiles2/meta_Patio_Lawn_and_Garden.json.gz, meta-data\n",
      "No66. No href\n",
      "No67. http://deepyeti.ucsd.edu/jianmo/amazon/categoryFiles/Pet_Supplies.json.gz, reviews\n",
      "No68. http://deepyeti.ucsd.edu/jianmo/amazon/metaFiles2/meta_Pet_Supplies.json.gz, meta-data\n",
      "No69. No href\n",
      "No70. http://deepyeti.ucsd.edu/jianmo/amazon/categoryFiles/Prime_Pantry.json.gz, reviews\n",
      "No71. http://deepyeti.ucsd.edu/jianmo/amazon/metaFiles2/meta_Prime_Pantry.json.gz, meta-data\n",
      "No72. No href\n",
      "No73. http://deepyeti.ucsd.edu/jianmo/amazon/categoryFiles/Software.json.gz, reviews\n",
      "No74. http://deepyeti.ucsd.edu/jianmo/amazon/metaFiles2/meta_Software.json.gz, meta-data\n",
      "No75. No href\n",
      "No76. http://deepyeti.ucsd.edu/jianmo/amazon/categoryFiles/Sports_and_Outdoors.json.gz, reviews\n",
      "No77. http://deepyeti.ucsd.edu/jianmo/amazon/metaFiles2/meta_Sports_and_Outdoors.json.gz, meta-data\n",
      "No78. No href\n",
      "No79. http://deepyeti.ucsd.edu/jianmo/amazon/categoryFiles/Tools_and_Home_Improvement.json.gz, reviews\n",
      "No80. http://deepyeti.ucsd.edu/jianmo/amazon/metaFiles2/meta_Tools_and_Home_Improvement.json.gz, meta-data\n",
      "No81. No href\n",
      "No82. http://deepyeti.ucsd.edu/jianmo/amazon/categoryFiles/Toys_and_Games.json.gz, reviews\n",
      "No83. http://deepyeti.ucsd.edu/jianmo/amazon/metaFiles2/meta_Toys_and_Games.json.gz, meta-data\n",
      "No84. No href\n",
      "No85. http://deepyeti.ucsd.edu/jianmo/amazon/categoryFiles/Video_Games.json.gz, reviews\n",
      "No86. http://deepyeti.ucsd.edu/jianmo/amazon/metaFiles2/meta_Video_Games.json.gz, meta-data\n"
     ]
    }
   ],
   "source": [
    "# temp_td_soup = td_soup[0].find('a').get('href')\n",
    "list_data_url = []\n",
    "list_meta_data_url = []\n",
    "\n",
    "for i in range(len(td_soup)):\n",
    "    try:\n",
    "        temp_td_soup = td_soup[i].find('a').get('href')\n",
    "\n",
    "        # if the url label is meta-data\n",
    "        if td_soup[i].find('a').text == 'metadata':\n",
    "            list_meta_data_url.append(temp_td_soup)\n",
    "            print(f\"No{i}. {temp_td_soup}, meta-data\")\n",
    "\n",
    "        # if the url label is data\n",
    "        elif td_soup[i].find('a').text == 'reviews':\n",
    "            list_data_url.append(temp_td_soup)\n",
    "            print(f\"No{i}. {temp_td_soup}, reviews\")\n",
    "\n",
    "    except AttributeError:\n",
    "        print(f'No{i}. No href')\n"
   ],
   "metadata": {
    "collapsed": false,
    "pycharm": {
     "name": "#%%\n"
    }
   }
  },
  {
   "cell_type": "markdown",
   "source": [
    "# get the list of saving dir"
   ],
   "metadata": {
    "collapsed": false,
    "pycharm": {
     "name": "#%% md\n"
    }
   }
  },
  {
   "cell_type": "code",
   "execution_count": 9,
   "outputs": [
    {
     "data": {
      "text/plain": "['AMAZON_FASHION.json.gz',\n 'All_Beauty.json.gz',\n 'Appliances.json.gz',\n 'Arts_Crafts_and_Sewing.json.gz',\n 'Automotive.json.gz',\n 'Books.json.gz',\n 'CDs_and_Vinyl.json.gz',\n 'Cell_Phones_and_Accessories.json.gz',\n 'Clothing_Shoes_and_Jewelry.json.gz',\n 'Digital_Music.json.gz',\n 'Electronics.json.gz',\n 'Gift_Cards.json.gz',\n 'Grocery_and_Gourmet_Food.json.gz',\n 'Home_and_Kitchen.json.gz',\n 'Industrial_and_Scientific.json.gz',\n 'Kindle_Store.json.gz',\n 'Luxury_Beauty.json.gz',\n 'Magazine_Subscriptions.json.gz',\n 'Movies_and_TV.json.gz',\n 'Musical_Instruments.json.gz',\n 'Office_Products.json.gz',\n 'Patio_Lawn_and_Garden.json.gz',\n 'Pet_Supplies.json.gz',\n 'Prime_Pantry.json.gz',\n 'Software.json.gz',\n 'Sports_and_Outdoors.json.gz',\n 'Tools_and_Home_Improvement.json.gz',\n 'Toys_and_Games.json.gz',\n 'Video_Games.json.gz']"
     },
     "execution_count": 9,
     "metadata": {},
     "output_type": "execute_result"
    }
   ],
   "source": [
    "list_data_dir = [i.split('/')[-1] for i in list_data_url]\n",
    "list_meta_data_dir = [i.split('/')[-1] for i in list_meta_data_url]\n",
    "list_data_dir"
   ],
   "metadata": {
    "collapsed": false,
    "pycharm": {
     "name": "#%%\n"
    }
   }
  },
  {
   "cell_type": "markdown",
   "source": [
    "# Create the saving dir"
   ],
   "metadata": {
    "collapsed": false,
    "pycharm": {
     "name": "#%% md\n"
    }
   }
  },
  {
   "cell_type": "code",
   "execution_count": 10,
   "outputs": [
    {
     "name": "stdout",
     "output_type": "stream",
     "text": [
      "Created dir for meta\n",
      "Created dir for review\n"
     ]
    }
   ],
   "source": [
    "if not os.path.exists('./meta'):\n",
    "    os.mkdir('./meta')\n",
    "    print('Created dir for meta')\n",
    "else:\n",
    "    print('dir for meta exists')\n",
    "\n",
    "if not os.path.exists('./review'):\n",
    "    os.mkdir('./review')\n",
    "    print('Created dir for review')\n",
    "else:\n",
    "    print('dir for review exists')\n",
    "\n",
    "\n"
   ],
   "metadata": {
    "collapsed": false,
    "pycharm": {
     "name": "#%%\n"
    }
   }
  },
  {
   "cell_type": "code",
   "execution_count": 11,
   "outputs": [
    {
     "name": "stdout",
     "output_type": "stream",
     "text": [
      "Downloading: http://deepyeti.ucsd.edu/jianmo/amazon/categoryFiles/AMAZON_FASHION.json.gz\n",
      "Downloading: http://deepyeti.ucsd.edu/jianmo/amazon/categoryFiles/All_Beauty.json.gz\n",
      "Downloading: http://deepyeti.ucsd.edu/jianmo/amazon/categoryFiles/Appliances.json.gz\n",
      "Downloading: http://deepyeti.ucsd.edu/jianmo/amazon/categoryFiles/Arts_Crafts_and_Sewing.json.gz\n",
      "Downloading: http://deepyeti.ucsd.edu/jianmo/amazon/categoryFiles/Automotive.json.gz\n",
      "Downloading: http://deepyeti.ucsd.edu/jianmo/amazon/categoryFiles/Books.json.gz\n"
     ]
    },
    {
     "ename": "KeyboardInterrupt",
     "evalue": "",
     "output_type": "error",
     "traceback": [
      "\u001B[1;31m---------------------------------------------------------------------------\u001B[0m",
      "\u001B[1;31mKeyboardInterrupt\u001B[0m                         Traceback (most recent call last)",
      "File \u001B[1;32m~\\.conda\\envs\\tf2.8\\lib\\site-packages\\requests\\api.py:61\u001B[0m, in \u001B[0;36mrequest\u001B[1;34m(method, url, **kwargs)\u001B[0m\n\u001B[0;32m     60\u001B[0m \u001B[38;5;28;01mwith\u001B[39;00m sessions\u001B[38;5;241m.\u001B[39mSession() \u001B[38;5;28;01mas\u001B[39;00m session:\n\u001B[1;32m---> 61\u001B[0m     \u001B[38;5;28;01mreturn\u001B[39;00m session\u001B[38;5;241m.\u001B[39mrequest(method\u001B[38;5;241m=\u001B[39mmethod, url\u001B[38;5;241m=\u001B[39murl, \u001B[38;5;241m*\u001B[39m\u001B[38;5;241m*\u001B[39mkwargs)\n",
      "File \u001B[1;32m~\\.conda\\envs\\tf2.8\\lib\\site-packages\\requests\\sessions.py:529\u001B[0m, in \u001B[0;36mSession.request\u001B[1;34m(self, method, url, params, data, headers, cookies, files, auth, timeout, allow_redirects, proxies, hooks, stream, verify, cert, json)\u001B[0m\n\u001B[0;32m    528\u001B[0m send_kwargs\u001B[38;5;241m.\u001B[39mupdate(settings)\n\u001B[1;32m--> 529\u001B[0m resp \u001B[38;5;241m=\u001B[39m \u001B[38;5;28mself\u001B[39m\u001B[38;5;241m.\u001B[39msend(prep, \u001B[38;5;241m*\u001B[39m\u001B[38;5;241m*\u001B[39msend_kwargs)\n\u001B[0;32m    531\u001B[0m \u001B[38;5;28;01mreturn\u001B[39;00m resp\n",
      "File \u001B[1;32m~\\.conda\\envs\\tf2.8\\lib\\site-packages\\requests\\sessions.py:687\u001B[0m, in \u001B[0;36mSession.send\u001B[1;34m(self, request, **kwargs)\u001B[0m\n\u001B[0;32m    686\u001B[0m \u001B[38;5;28;01mif\u001B[39;00m \u001B[38;5;129;01mnot\u001B[39;00m stream:\n\u001B[1;32m--> 687\u001B[0m     \u001B[43mr\u001B[49m\u001B[38;5;241;43m.\u001B[39;49m\u001B[43mcontent\u001B[49m\n\u001B[0;32m    689\u001B[0m \u001B[38;5;28;01mreturn\u001B[39;00m r\n",
      "File \u001B[1;32m~\\.conda\\envs\\tf2.8\\lib\\site-packages\\requests\\models.py:838\u001B[0m, in \u001B[0;36mResponse.content\u001B[1;34m(self)\u001B[0m\n\u001B[0;32m    837\u001B[0m     \u001B[38;5;28;01melse\u001B[39;00m:\n\u001B[1;32m--> 838\u001B[0m         \u001B[38;5;28mself\u001B[39m\u001B[38;5;241m.\u001B[39m_content \u001B[38;5;241m=\u001B[39m \u001B[38;5;124;43mb\u001B[39;49m\u001B[38;5;124;43m'\u001B[39;49m\u001B[38;5;124;43m'\u001B[39;49m\u001B[38;5;241;43m.\u001B[39;49m\u001B[43mjoin\u001B[49m\u001B[43m(\u001B[49m\u001B[38;5;28;43mself\u001B[39;49m\u001B[38;5;241;43m.\u001B[39;49m\u001B[43miter_content\u001B[49m\u001B[43m(\u001B[49m\u001B[43mCONTENT_CHUNK_SIZE\u001B[49m\u001B[43m)\u001B[49m\u001B[43m)\u001B[49m \u001B[38;5;129;01mor\u001B[39;00m \u001B[38;5;124mb\u001B[39m\u001B[38;5;124m'\u001B[39m\u001B[38;5;124m'\u001B[39m\n\u001B[0;32m    840\u001B[0m \u001B[38;5;28mself\u001B[39m\u001B[38;5;241m.\u001B[39m_content_consumed \u001B[38;5;241m=\u001B[39m \u001B[38;5;28;01mTrue\u001B[39;00m\n",
      "File \u001B[1;32m~\\.conda\\envs\\tf2.8\\lib\\site-packages\\requests\\models.py:760\u001B[0m, in \u001B[0;36mResponse.iter_content.<locals>.generate\u001B[1;34m()\u001B[0m\n\u001B[0;32m    759\u001B[0m \u001B[38;5;28;01mtry\u001B[39;00m:\n\u001B[1;32m--> 760\u001B[0m     \u001B[38;5;28;01mfor\u001B[39;00m chunk \u001B[38;5;129;01min\u001B[39;00m \u001B[38;5;28mself\u001B[39m\u001B[38;5;241m.\u001B[39mraw\u001B[38;5;241m.\u001B[39mstream(chunk_size, decode_content\u001B[38;5;241m=\u001B[39m\u001B[38;5;28;01mTrue\u001B[39;00m):\n\u001B[0;32m    761\u001B[0m         \u001B[38;5;28;01myield\u001B[39;00m chunk\n",
      "File \u001B[1;32m~\\.conda\\envs\\tf2.8\\lib\\site-packages\\urllib3\\response.py:576\u001B[0m, in \u001B[0;36mHTTPResponse.stream\u001B[1;34m(self, amt, decode_content)\u001B[0m\n\u001B[0;32m    575\u001B[0m \u001B[38;5;28;01mwhile\u001B[39;00m \u001B[38;5;129;01mnot\u001B[39;00m is_fp_closed(\u001B[38;5;28mself\u001B[39m\u001B[38;5;241m.\u001B[39m_fp):\n\u001B[1;32m--> 576\u001B[0m     data \u001B[38;5;241m=\u001B[39m \u001B[38;5;28;43mself\u001B[39;49m\u001B[38;5;241;43m.\u001B[39;49m\u001B[43mread\u001B[49m\u001B[43m(\u001B[49m\u001B[43mamt\u001B[49m\u001B[38;5;241;43m=\u001B[39;49m\u001B[43mamt\u001B[49m\u001B[43m,\u001B[49m\u001B[43m \u001B[49m\u001B[43mdecode_content\u001B[49m\u001B[38;5;241;43m=\u001B[39;49m\u001B[43mdecode_content\u001B[49m\u001B[43m)\u001B[49m\n\u001B[0;32m    578\u001B[0m     \u001B[38;5;28;01mif\u001B[39;00m data:\n",
      "File \u001B[1;32m~\\.conda\\envs\\tf2.8\\lib\\site-packages\\urllib3\\response.py:519\u001B[0m, in \u001B[0;36mHTTPResponse.read\u001B[1;34m(self, amt, decode_content, cache_content)\u001B[0m\n\u001B[0;32m    518\u001B[0m cache_content \u001B[38;5;241m=\u001B[39m \u001B[38;5;28;01mFalse\u001B[39;00m\n\u001B[1;32m--> 519\u001B[0m data \u001B[38;5;241m=\u001B[39m \u001B[38;5;28;43mself\u001B[39;49m\u001B[38;5;241;43m.\u001B[39;49m\u001B[43m_fp\u001B[49m\u001B[38;5;241;43m.\u001B[39;49m\u001B[43mread\u001B[49m\u001B[43m(\u001B[49m\u001B[43mamt\u001B[49m\u001B[43m)\u001B[49m \u001B[38;5;28;01mif\u001B[39;00m \u001B[38;5;129;01mnot\u001B[39;00m fp_closed \u001B[38;5;28;01melse\u001B[39;00m \u001B[38;5;124mb\u001B[39m\u001B[38;5;124m\"\u001B[39m\u001B[38;5;124m\"\u001B[39m\n\u001B[0;32m    520\u001B[0m \u001B[38;5;28;01mif\u001B[39;00m (\n\u001B[0;32m    521\u001B[0m     amt \u001B[38;5;241m!=\u001B[39m \u001B[38;5;241m0\u001B[39m \u001B[38;5;129;01mand\u001B[39;00m \u001B[38;5;129;01mnot\u001B[39;00m data\n\u001B[0;32m    522\u001B[0m ):  \u001B[38;5;66;03m# Platform-specific: Buggy versions of Python.\u001B[39;00m\n\u001B[1;32m   (...)\u001B[0m\n\u001B[0;32m    528\u001B[0m     \u001B[38;5;66;03m# not properly close the connection in all cases. There is\u001B[39;00m\n\u001B[0;32m    529\u001B[0m     \u001B[38;5;66;03m# no harm in redundantly calling close.\u001B[39;00m\n",
      "File \u001B[1;32m~\\.conda\\envs\\tf2.8\\lib\\http\\client.py:458\u001B[0m, in \u001B[0;36mHTTPResponse.read\u001B[1;34m(self, amt)\u001B[0m\n\u001B[0;32m    457\u001B[0m b \u001B[38;5;241m=\u001B[39m \u001B[38;5;28mbytearray\u001B[39m(amt)\n\u001B[1;32m--> 458\u001B[0m n \u001B[38;5;241m=\u001B[39m \u001B[38;5;28;43mself\u001B[39;49m\u001B[38;5;241;43m.\u001B[39;49m\u001B[43mreadinto\u001B[49m\u001B[43m(\u001B[49m\u001B[43mb\u001B[49m\u001B[43m)\u001B[49m\n\u001B[0;32m    459\u001B[0m \u001B[38;5;28;01mreturn\u001B[39;00m \u001B[38;5;28mmemoryview\u001B[39m(b)[:n]\u001B[38;5;241m.\u001B[39mtobytes()\n",
      "File \u001B[1;32m~\\.conda\\envs\\tf2.8\\lib\\http\\client.py:502\u001B[0m, in \u001B[0;36mHTTPResponse.readinto\u001B[1;34m(self, b)\u001B[0m\n\u001B[0;32m    499\u001B[0m \u001B[38;5;66;03m# we do not use _safe_read() here because this may be a .will_close\u001B[39;00m\n\u001B[0;32m    500\u001B[0m \u001B[38;5;66;03m# connection, and the user is reading more bytes than will be provided\u001B[39;00m\n\u001B[0;32m    501\u001B[0m \u001B[38;5;66;03m# (for example, reading in 1k chunks)\u001B[39;00m\n\u001B[1;32m--> 502\u001B[0m n \u001B[38;5;241m=\u001B[39m \u001B[38;5;28;43mself\u001B[39;49m\u001B[38;5;241;43m.\u001B[39;49m\u001B[43mfp\u001B[49m\u001B[38;5;241;43m.\u001B[39;49m\u001B[43mreadinto\u001B[49m\u001B[43m(\u001B[49m\u001B[43mb\u001B[49m\u001B[43m)\u001B[49m\n\u001B[0;32m    503\u001B[0m \u001B[38;5;28;01mif\u001B[39;00m \u001B[38;5;129;01mnot\u001B[39;00m n \u001B[38;5;129;01mand\u001B[39;00m b:\n\u001B[0;32m    504\u001B[0m     \u001B[38;5;66;03m# Ideally, we would raise IncompleteRead if the content-length\u001B[39;00m\n\u001B[0;32m    505\u001B[0m     \u001B[38;5;66;03m# wasn't satisfied, but it might break compatibility.\u001B[39;00m\n",
      "File \u001B[1;32m~\\.conda\\envs\\tf2.8\\lib\\socket.py:704\u001B[0m, in \u001B[0;36mSocketIO.readinto\u001B[1;34m(self, b)\u001B[0m\n\u001B[0;32m    703\u001B[0m \u001B[38;5;28;01mtry\u001B[39;00m:\n\u001B[1;32m--> 704\u001B[0m     \u001B[38;5;28;01mreturn\u001B[39;00m \u001B[38;5;28;43mself\u001B[39;49m\u001B[38;5;241;43m.\u001B[39;49m\u001B[43m_sock\u001B[49m\u001B[38;5;241;43m.\u001B[39;49m\u001B[43mrecv_into\u001B[49m\u001B[43m(\u001B[49m\u001B[43mb\u001B[49m\u001B[43m)\u001B[49m\n\u001B[0;32m    705\u001B[0m \u001B[38;5;28;01mexcept\u001B[39;00m timeout:\n",
      "\u001B[1;31mKeyboardInterrupt\u001B[0m: ",
      "\nDuring handling of the above exception, another exception occurred:\n",
      "\u001B[1;31mKeyboardInterrupt\u001B[0m                         Traceback (most recent call last)",
      "Input \u001B[1;32mIn [11]\u001B[0m, in \u001B[0;36m<cell line: 1>\u001B[1;34m()\u001B[0m\n\u001B[0;32m      1\u001B[0m \u001B[38;5;28;01mfor\u001B[39;00m i \u001B[38;5;129;01min\u001B[39;00m \u001B[38;5;28mrange\u001B[39m(\u001B[38;5;28mlen\u001B[39m(list_data_url)):\n\u001B[0;32m      2\u001B[0m     \u001B[38;5;66;03m# download the items\u001B[39;00m\n\u001B[0;32m      3\u001B[0m     \u001B[38;5;28mprint\u001B[39m(\u001B[38;5;124mf\u001B[39m\u001B[38;5;124m'\u001B[39m\u001B[38;5;124mDownloading: \u001B[39m\u001B[38;5;132;01m{\u001B[39;00mlist_data_url[i]\u001B[38;5;132;01m}\u001B[39;00m\u001B[38;5;124m'\u001B[39m)\n\u001B[1;32m----> 4\u001B[0m     temp_downloaded \u001B[38;5;241m=\u001B[39m \u001B[43mrequests\u001B[49m\u001B[38;5;241;43m.\u001B[39;49m\u001B[43mget\u001B[49m\u001B[43m(\u001B[49m\u001B[43mlist_data_url\u001B[49m\u001B[43m[\u001B[49m\u001B[43mi\u001B[49m\u001B[43m]\u001B[49m\u001B[43m)\u001B[49m\n\u001B[0;32m      5\u001B[0m     \u001B[38;5;66;03m# get the save dir of gzip file\u001B[39;00m\n\u001B[0;32m      6\u001B[0m     gzip_save_dir \u001B[38;5;241m=\u001B[39m \u001B[38;5;124mf\u001B[39m\u001B[38;5;124m'\u001B[39m\u001B[38;5;124mreview/\u001B[39m\u001B[38;5;132;01m{\u001B[39;00mlist_data_dir[i]\u001B[38;5;132;01m}\u001B[39;00m\u001B[38;5;124m'\u001B[39m\n",
      "File \u001B[1;32m~\\.conda\\envs\\tf2.8\\lib\\site-packages\\requests\\api.py:75\u001B[0m, in \u001B[0;36mget\u001B[1;34m(url, params, **kwargs)\u001B[0m\n\u001B[0;32m     64\u001B[0m \u001B[38;5;28;01mdef\u001B[39;00m \u001B[38;5;21mget\u001B[39m(url, params\u001B[38;5;241m=\u001B[39m\u001B[38;5;28;01mNone\u001B[39;00m, \u001B[38;5;241m*\u001B[39m\u001B[38;5;241m*\u001B[39mkwargs):\n\u001B[0;32m     65\u001B[0m     \u001B[38;5;124mr\u001B[39m\u001B[38;5;124;03m\"\"\"Sends a GET request.\u001B[39;00m\n\u001B[0;32m     66\u001B[0m \n\u001B[0;32m     67\u001B[0m \u001B[38;5;124;03m    :param url: URL for the new :class:`Request` object.\u001B[39;00m\n\u001B[1;32m   (...)\u001B[0m\n\u001B[0;32m     72\u001B[0m \u001B[38;5;124;03m    :rtype: requests.Response\u001B[39;00m\n\u001B[0;32m     73\u001B[0m \u001B[38;5;124;03m    \"\"\"\u001B[39;00m\n\u001B[1;32m---> 75\u001B[0m     \u001B[38;5;28;01mreturn\u001B[39;00m request(\u001B[38;5;124m'\u001B[39m\u001B[38;5;124mget\u001B[39m\u001B[38;5;124m'\u001B[39m, url, params\u001B[38;5;241m=\u001B[39mparams, \u001B[38;5;241m*\u001B[39m\u001B[38;5;241m*\u001B[39mkwargs)\n",
      "File \u001B[1;32m~\\.conda\\envs\\tf2.8\\lib\\site-packages\\requests\\api.py:61\u001B[0m, in \u001B[0;36mrequest\u001B[1;34m(method, url, **kwargs)\u001B[0m\n\u001B[0;32m     57\u001B[0m \u001B[38;5;66;03m# By using the 'with' statement we are sure the session is closed, thus we\u001B[39;00m\n\u001B[0;32m     58\u001B[0m \u001B[38;5;66;03m# avoid leaving sockets open which can trigger a ResourceWarning in some\u001B[39;00m\n\u001B[0;32m     59\u001B[0m \u001B[38;5;66;03m# cases, and look like a memory leak in others.\u001B[39;00m\n\u001B[0;32m     60\u001B[0m \u001B[38;5;28;01mwith\u001B[39;00m sessions\u001B[38;5;241m.\u001B[39mSession() \u001B[38;5;28;01mas\u001B[39;00m session:\n\u001B[1;32m---> 61\u001B[0m     \u001B[38;5;28;01mreturn\u001B[39;00m session\u001B[38;5;241m.\u001B[39mrequest(method\u001B[38;5;241m=\u001B[39mmethod, url\u001B[38;5;241m=\u001B[39murl, \u001B[38;5;241m*\u001B[39m\u001B[38;5;241m*\u001B[39mkwargs)\n",
      "File \u001B[1;32m~\\.conda\\envs\\tf2.8\\lib\\site-packages\\requests\\sessions.py:414\u001B[0m, in \u001B[0;36mSession.__exit__\u001B[1;34m(self, *args)\u001B[0m\n\u001B[0;32m    411\u001B[0m \u001B[38;5;28;01mdef\u001B[39;00m \u001B[38;5;21m__enter__\u001B[39m(\u001B[38;5;28mself\u001B[39m):\n\u001B[0;32m    412\u001B[0m     \u001B[38;5;28;01mreturn\u001B[39;00m \u001B[38;5;28mself\u001B[39m\n\u001B[1;32m--> 414\u001B[0m \u001B[38;5;28;01mdef\u001B[39;00m \u001B[38;5;21m__exit__\u001B[39m(\u001B[38;5;28mself\u001B[39m, \u001B[38;5;241m*\u001B[39margs):\n\u001B[0;32m    415\u001B[0m     \u001B[38;5;28mself\u001B[39m\u001B[38;5;241m.\u001B[39mclose()\n\u001B[0;32m    417\u001B[0m \u001B[38;5;28;01mdef\u001B[39;00m \u001B[38;5;21mprepare_request\u001B[39m(\u001B[38;5;28mself\u001B[39m, request):\n",
      "\u001B[1;31mKeyboardInterrupt\u001B[0m: "
     ]
    }
   ],
   "source": [
    "for i in range(len(list_data_url)):\n",
    "    # download the items\n",
    "    print(f'Downloading: {list_data_url[i]}')\n",
    "    temp_downloaded = requests.get(list_data_url[i])\n",
    "    # get the save dir of gzip file\n",
    "    gzip_save_dir = f'review/{list_data_dir[i]}'\n",
    "    # get the save dir for the json file\n",
    "    json_save_dir = gzip_save_dir[:-3]\n",
    "\n",
    "    open(gzip_save_dir, 'wb').write(temp_downloaded.content)\n",
    "\n",
    "    with gzip.open(gzip_save_dir, 'rb') as f_in:\n",
    "        with open(json_save_dir, 'wb') as f_out:\n",
    "            shutil.copyfileobj(f_in, f_out)\n",
    "\n",
    "    os.remove(gzip_save_dir)"
   ],
   "metadata": {
    "collapsed": false,
    "pycharm": {
     "name": "#%%\n"
    }
   }
  },
  {
   "cell_type": "code",
   "execution_count": null,
   "outputs": [],
   "source": [
    "for i in range(len(list_meta_data_dir)):\n",
    "    print(f\"Downloading: {list_meta_data_url[i]}\")\n",
    "    # download the items\n",
    "    temp_downloaded = requests.get(list_meta_data_url[i])\n",
    "    # get the save dir of gzip file\n",
    "    gzip_save_dir = f'meta/{list_meta_data_dir[i]}'\n",
    "    # get the save dir for the json file\n",
    "    json_save_dir = gzip_save_dir[:-3]\n",
    "\n",
    "    open(gzip_save_dir, 'wb').write(temp_downloaded.content)\n",
    "\n",
    "    with gzip.open(gzip_save_dir, 'rb') as f_in:\n",
    "        with open(json_save_dir, 'wb') as f_out:\n",
    "            shutil.copyfileobj(f_in, f_out)\n",
    "\n",
    "    os.remove(gzip_save_dir)"
   ],
   "metadata": {
    "collapsed": false,
    "pycharm": {
     "name": "#%%\n"
    }
   }
  },
  {
   "cell_type": "code",
   "execution_count": null,
   "outputs": [],
   "source": [
    "json"
   ],
   "metadata": {
    "collapsed": false,
    "pycharm": {
     "name": "#%%\n"
    }
   }
  },
  {
   "cell_type": "code",
   "execution_count": null,
   "outputs": [],
   "source": [
    "temp_df = pd.read_json(json_save_dir)"
   ],
   "metadata": {
    "collapsed": false,
    "pycharm": {
     "name": "#%%\n"
    }
   }
  }
 ],
 "metadata": {
  "kernelspec": {
   "display_name": "Python 3",
   "language": "python",
   "name": "python3"
  },
  "language_info": {
   "codemirror_mode": {
    "name": "ipython",
    "version": 2
   },
   "file_extension": ".py",
   "mimetype": "text/x-python",
   "name": "python",
   "nbconvert_exporter": "python",
   "pygments_lexer": "ipython2",
   "version": "2.7.6"
  }
 },
 "nbformat": 4,
 "nbformat_minor": 0
}