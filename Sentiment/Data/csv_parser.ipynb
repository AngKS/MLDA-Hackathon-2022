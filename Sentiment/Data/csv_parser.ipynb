{
 "cells": [
  {
   "cell_type": "code",
   "execution_count": 2,
   "metadata": {
    "collapsed": true
   },
   "outputs": [],
   "source": [
    "import pandas as pd\n",
    "import json\n",
    "import os\n",
    "import shutil"
   ]
  },
  {
   "cell_type": "code",
   "execution_count": 3,
   "outputs": [
    {
     "data": {
      "text/plain": "(['All_Beauty.json',\n  'AMAZON_FASHION.json',\n  'Appliances.json',\n  'Arts_Crafts_and_Sewing.json',\n  'Automotive.csv',\n  'Automotive.json'],\n ['meta_All_Beauty.json',\n  'meta_AMAZON_FASHION.json',\n  'meta_Appliances.json',\n  'meta_Arts_Crafts_and_Sewing.json'])"
     },
     "execution_count": 3,
     "metadata": {},
     "output_type": "execute_result"
    }
   ],
   "source": [
    "review_item = os.listdir('./review')\n",
    "meta_item = os.listdir('./meta')\n",
    "review_item, meta_item"
   ],
   "metadata": {
    "collapsed": false,
    "pycharm": {
     "name": "#%%\n"
    }
   }
  },
  {
   "cell_type": "code",
   "execution_count": 4,
   "outputs": [],
   "source": [
    "review_item_json = [i for i in review_item if i.endswith('.json')]\n",
    "review_item_csv = [f\"{i[:-5]}.csv\" for i in review_item_json]\n",
    "\n",
    "meta_item_json = [i for i in meta_item if i.endswith('.json')]\n",
    "meta_item_csv = [f\"{i[:-5]}.csv\" for i in meta_item_json]\n"
   ],
   "metadata": {
    "collapsed": false,
    "pycharm": {
     "name": "#%%\n"
    }
   }
  },
  {
   "cell_type": "code",
   "execution_count": 5,
   "outputs": [
    {
     "data": {
      "text/plain": "(['All_Beauty.json',\n  'AMAZON_FASHION.json',\n  'Appliances.json',\n  'Arts_Crafts_and_Sewing.json',\n  'Automotive.json'],\n ['All_Beauty.csv',\n  'AMAZON_FASHION.csv',\n  'Appliances.csv',\n  'Arts_Crafts_and_Sewing.csv',\n  'Automotive.csv'])"
     },
     "execution_count": 5,
     "metadata": {},
     "output_type": "execute_result"
    }
   ],
   "source": [
    "review_item_json, review_item_csv"
   ],
   "metadata": {
    "collapsed": false,
    "pycharm": {
     "name": "#%%\n"
    }
   }
  },
  {
   "cell_type": "code",
   "execution_count": 7,
   "outputs": [
    {
     "data": {
      "text/plain": "(['meta_All_Beauty.json',\n  'meta_AMAZON_FASHION.json',\n  'meta_Appliances.json',\n  'meta_Arts_Crafts_and_Sewing.json'],\n ['meta_All_Beauty.csv',\n  'meta_AMAZON_FASHION.csv',\n  'meta_Appliances.csv',\n  'meta_Arts_Crafts_and_Sewing.csv'])"
     },
     "execution_count": 7,
     "metadata": {},
     "output_type": "execute_result"
    }
   ],
   "source": [
    "meta_item_json, meta_item_csv"
   ],
   "metadata": {
    "collapsed": false,
    "pycharm": {
     "name": "#%%\n"
    }
   }
  },
  {
   "cell_type": "code",
   "execution_count": null,
   "outputs": [],
   "source": [],
   "metadata": {
    "collapsed": false,
    "pycharm": {
     "name": "#%%\n"
    }
   }
  }
 ],
 "metadata": {
  "kernelspec": {
   "display_name": "Python 3",
   "language": "python",
   "name": "python3"
  },
  "language_info": {
   "codemirror_mode": {
    "name": "ipython",
    "version": 2
   },
   "file_extension": ".py",
   "mimetype": "text/x-python",
   "name": "python",
   "nbconvert_exporter": "python",
   "pygments_lexer": "ipython2",
   "version": "2.7.6"
  }
 },
 "nbformat": 4,
 "nbformat_minor": 0
}