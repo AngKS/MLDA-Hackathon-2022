{
 "cells": [
  {
   "cell_type": "code",
   "execution_count": 112,
   "metadata": {},
   "outputs": [
    {
     "name": "stdout",
     "output_type": "stream",
     "text": [
      "Wall time: 0 ns\n"
     ]
    }
   ],
   "source": [
    "from typing import Union\n",
    "import torch\n",
    "import torch.nn.functional as F\n",
    "from transformers import AutoTokenizer, AutoModelForSequenceClassification\n",
    "\n",
    "%time\n",
    "config = dict(\n",
    "    tokenizer=AutoTokenizer.from_pretrained(\"unitary/toxic-bert\"),\n",
    "    model=AutoModelForSequenceClassification.from_pretrained(\"unitary/toxic-bert\"),\n",
    ")"
   ]
  },
  {
   "cell_type": "code",
   "execution_count": 142,
   "metadata": {},
   "outputs": [],
   "source": [
    "# inference function\n",
    "def hate_speech_inference(query:Union[str, list], tokenizer, model) -> dict:\n",
    "    id2label = model.config.id2label\n",
    "    # disable pytorch automatic differentiation engine\n",
    "    with torch.no_grad():\n",
    "        tokens = tokenizer(query, return_tensors='pt', padding=True, truncation=True) # convert text to token i.e. word to numbers\n",
    "        logits = model(**tokens).logits # run inference\n",
    "        proba = torch.sigmoid(logits) # sigmoid probabilities\n",
    "        pred_class = proba.apply_(lambda x: 1 if x >= 0.5 else 0) # predict class as one-hot encodings\n",
    "        return dict(\n",
    "            proba = proba,\n",
    "            id2label = id2label,\n",
    "            pred_class = pred_class\n",
    "        )"
   ]
  },
  {
   "cell_type": "code",
   "execution_count": 143,
   "metadata": {},
   "outputs": [
    {
     "data": {
      "text/plain": [
       "{'proba': tensor([[1., 0., 1., 0., 1., 0.]]),\n",
       " 'id2label': {0: 'toxic',\n",
       "  1: 'severe_toxic',\n",
       "  2: 'obscene',\n",
       "  3: 'threat',\n",
       "  4: 'insult',\n",
       "  5: 'identity_hate'},\n",
       " 'pred_class': tensor([[1., 0., 1., 0., 1., 0.]])}"
      ]
     },
     "execution_count": 143,
     "metadata": {},
     "output_type": "execute_result"
    }
   ],
   "source": [
    "# single instance prediction\n",
    "hate_speech_inference('COCKSUCKER BEFORE YOU PISS AROUND ON MY WORK', **config) # multiple toxic traits"
   ]
  },
  {
   "cell_type": "code",
   "execution_count": 147,
   "metadata": {},
   "outputs": [
    {
     "data": {
      "text/plain": [
       "{'proba': tensor([[1., 0., 1., 0., 1., 0.],\n",
       "         [0., 0., 0., 0., 0., 0.],\n",
       "         [0., 0., 0., 0., 0., 0.],\n",
       "         [1., 0., 0., 0., 0., 1.]]),\n",
       " 'id2label': {0: 'toxic',\n",
       "  1: 'severe_toxic',\n",
       "  2: 'obscene',\n",
       "  3: 'threat',\n",
       "  4: 'insult',\n",
       "  5: 'identity_hate'},\n",
       " 'pred_class': tensor([[1., 0., 1., 0., 1., 0.],\n",
       "         [0., 0., 0., 0., 0., 0.],\n",
       "         [0., 0., 0., 0., 0., 0.],\n",
       "         [1., 0., 0., 0., 0., 1.]])}"
      ]
     },
     "execution_count": 147,
     "metadata": {},
     "output_type": "execute_result"
    }
   ],
   "source": [
    "input_batch = [\n",
    "    \"COCKSUCKER BEFORE YOU PISS AROUND ON MY WORK\", # toxic, severe toxic, obscene, insult\n",
    "    \"Oh, and the girl above started her arguments with me. She stuck her nose where it doesn't belong. I believe the argument was between me and Yvesnimmo. But like I said, the situation was settled and I apologized. Thanks,\", # non-toxic\n",
    "    \"Bye!\", # might be toxic\n",
    "    \"You are gay or antisemmitian? \" # toxic and identity hate\n",
    "]\n",
    "\n",
    "hate_speech_inference(input_batch, **config)"
   ]
  },
  {
   "cell_type": "markdown",
   "metadata": {},
   "source": [
    "## Model Architecture"
   ]
  },
  {
   "cell_type": "code",
   "execution_count": null,
   "metadata": {},
   "outputs": [],
   "source": [
    "import torchinfo\n",
    "torchinfo.summary(config['model'])"
   ]
  },
  {
   "cell_type": "markdown",
   "metadata": {},
   "source": [
    "take note: I'm looking to do batch inferencing next"
   ]
  },
  {
   "cell_type": "code",
   "execution_count": null,
   "metadata": {},
   "outputs": [],
   "source": []
  }
 ],
 "metadata": {
  "kernelspec": {
   "display_name": "Python 3.8.5 ('base')",
   "language": "python",
   "name": "python3"
  },
  "language_info": {
   "codemirror_mode": {
    "name": "ipython",
    "version": 3
   },
   "file_extension": ".py",
   "mimetype": "text/x-python",
   "name": "python",
   "nbconvert_exporter": "python",
   "pygments_lexer": "ipython3",
   "version": "3.8.5"
  },
  "orig_nbformat": 4,
  "vscode": {
   "interpreter": {
    "hash": "eebf13c391f6b5cf482ad86aef3cc2f6b52e587a819499829089adf667771617"
   }
  }
 },
 "nbformat": 4,
 "nbformat_minor": 2
}
