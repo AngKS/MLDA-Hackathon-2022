{
 "cells": [
  {
   "cell_type": "code",
   "execution_count": 37,
   "outputs": [
    {
     "data": {
      "text/plain": "{'outputs': [[0.00316798687]]}"
     },
     "execution_count": 37,
     "metadata": {},
     "output_type": "execute_result"
    }
   ],
   "source": [
    "import json\n",
    "import requests\n",
    "\n",
    "url = 'https://mlda-sentiment-2022.herokuapp.com/v1/models/sentiment:predict'\n",
    "\n",
    "input_data = json.dumps({\n",
    "    'inputs': ['I do not like this a lot']\n",
    "})\n",
    "\n",
    "headers = {'content-Type': 'app/json'}\n",
    "\n",
    "json_response = requests.post(url, data=input_data, headers=headers)\n",
    "response = json.loads(json_response.text)\n",
    "response"
   ],
   "metadata": {
    "collapsed": false,
    "pycharm": {
     "name": "#%%\n"
    }
   }
  },
  {
   "cell_type": "code",
   "execution_count": 49,
   "outputs": [
    {
     "data": {
      "text/plain": "{'outputs': [[0.00316798687]]}"
     },
     "execution_count": 49,
     "metadata": {},
     "output_type": "execute_result"
    }
   ],
   "source": [
    "import json\n",
    "import requests\n",
    "\n",
    "url = 'https://flask-sentiment-ntu.herokuapp.com/predict'\n",
    "\n",
    "input_data = json.dumps({\n",
    "    'inputs': ['I do not like this a lot']\n",
    "})\n",
    "\n",
    "headers = {'content-Type': 'app/json'}\n",
    "\n",
    "json_response = requests.post(url, data=input_data, headers=headers)\n",
    "response = json.loads(json_response.text)\n",
    "response"
   ],
   "metadata": {
    "collapsed": false,
    "pycharm": {
     "name": "#%%\n"
    }
   }
  }
 ],
 "metadata": {
  "kernelspec": {
   "display_name": "Python 3",
   "language": "python",
   "name": "python3"
  },
  "language_info": {
   "codemirror_mode": {
    "name": "ipython",
    "version": 2
   },
   "file_extension": ".py",
   "mimetype": "text/x-python",
   "name": "python",
   "nbconvert_exporter": "python",
   "pygments_lexer": "ipython2",
   "version": "2.7.6"
  }
 },
 "nbformat": 4,
 "nbformat_minor": 0
}